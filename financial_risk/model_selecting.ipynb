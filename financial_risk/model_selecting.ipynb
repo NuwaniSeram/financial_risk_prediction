{
  "cells": [
    {
      "cell_type": "code",
      "execution_count": 1,
      "metadata": {
        "id": "TwWX7PVM7_vH"
      },
      "outputs": [],
      "source": [
        "import pandas as pd\n",
        "import numpy as np\n",
        "import matplotlib.pyplot as plt\n",
        "import seaborn as sns\n",
        "import pycountry\n",
        "import pycountry_convert as pc"
      ]
    },
    {
      "cell_type": "code",
      "execution_count": 2,
      "metadata": {
        "id": "wz7Fs9l35NGv"
      },
      "outputs": [],
      "source": [
        "from sklearn.preprocessing import MinMaxScaler\n",
        "from imblearn.over_sampling import SMOTE\n",
        "from sklearn.model_selection import train_test_split\n",
        "from sklearn.preprocessing import LabelEncoder"
      ]
    },
    {
      "cell_type": "code",
      "execution_count": 3,
      "metadata": {
        "id": "SDsjJ7g654bC"
      },
      "outputs": [],
      "source": [
        "from sklearn.linear_model import LogisticRegression\n",
        "from sklearn.ensemble import RandomForestClassifier\n",
        "from sklearn.svm import SVC\n",
        "from sklearn.neural_network import MLPClassifier\n",
        "from sklearn.neighbors import KNeighborsClassifier\n",
        "\n",
        "from sklearn.metrics import accuracy_score, classification_report, confusion_matrix, ConfusionMatrixDisplay, f1_score\n",
        "from sklearn.model_selection import cross_val_score\n",
        "from sklearn.model_selection import RandomizedSearchCV"
      ]
    },
    {
      "cell_type": "code",
      "execution_count": 4,
      "metadata": {
        "colab": {
          "base_uri": "https://localhost:8080/"
        },
        "id": "5sbY586W8Gth",
        "outputId": "f11c0585-8f1a-4524-e22d-c2521611c0db"
      },
      "outputs": [
        {
          "data": {
            "text/plain": [
              "(15000, 20)"
            ]
          },
          "execution_count": 4,
          "metadata": {},
          "output_type": "execute_result"
        }
      ],
      "source": [
        "df = pd.read_csv(\"financial_risk_assessment.csv\")\n",
        "df.shape"
      ]
    },
    {
      "cell_type": "code",
      "execution_count": 5,
      "metadata": {
        "colab": {
          "base_uri": "https://localhost:8080/",
          "height": 591
        },
        "id": "9tqkHto23yeb",
        "outputId": "574f7d49-2d38-407a-fd9b-bfc4636b67af"
      },
      "outputs": [
        {
          "data": {
            "text/html": [
              "<div>\n",
              "<style scoped>\n",
              "    .dataframe tbody tr th:only-of-type {\n",
              "        vertical-align: middle;\n",
              "    }\n",
              "\n",
              "    .dataframe tbody tr th {\n",
              "        vertical-align: top;\n",
              "    }\n",
              "\n",
              "    .dataframe thead th {\n",
              "        text-align: right;\n",
              "    }\n",
              "</style>\n",
              "<table border=\"1\" class=\"dataframe\">\n",
              "  <thead>\n",
              "    <tr style=\"text-align: right;\">\n",
              "      <th></th>\n",
              "      <th>Age</th>\n",
              "      <th>Gender</th>\n",
              "      <th>Education Level</th>\n",
              "      <th>Marital Status</th>\n",
              "      <th>Income</th>\n",
              "      <th>Credit Score</th>\n",
              "      <th>Loan Amount</th>\n",
              "      <th>Loan Purpose</th>\n",
              "      <th>Employment Status</th>\n",
              "      <th>Years at Current Job</th>\n",
              "      <th>Payment History</th>\n",
              "      <th>Debt-to-Income Ratio</th>\n",
              "      <th>Assets Value</th>\n",
              "      <th>Number of Dependents</th>\n",
              "      <th>City</th>\n",
              "      <th>State</th>\n",
              "      <th>Country</th>\n",
              "      <th>Previous Defaults</th>\n",
              "      <th>Marital Status Change</th>\n",
              "      <th>Risk Rating</th>\n",
              "    </tr>\n",
              "  </thead>\n",
              "  <tbody>\n",
              "    <tr>\n",
              "      <th>0</th>\n",
              "      <td>49</td>\n",
              "      <td>Male</td>\n",
              "      <td>PhD</td>\n",
              "      <td>Divorced</td>\n",
              "      <td>72799.0</td>\n",
              "      <td>688.0</td>\n",
              "      <td>45713.0</td>\n",
              "      <td>Business</td>\n",
              "      <td>Unemployed</td>\n",
              "      <td>19</td>\n",
              "      <td>Poor</td>\n",
              "      <td>0.154313</td>\n",
              "      <td>120228.0</td>\n",
              "      <td>0.0</td>\n",
              "      <td>Port Elizabeth</td>\n",
              "      <td>AS</td>\n",
              "      <td>Cyprus</td>\n",
              "      <td>2.0</td>\n",
              "      <td>2</td>\n",
              "      <td>Low</td>\n",
              "    </tr>\n",
              "    <tr>\n",
              "      <th>1</th>\n",
              "      <td>57</td>\n",
              "      <td>Female</td>\n",
              "      <td>Bachelor's</td>\n",
              "      <td>Widowed</td>\n",
              "      <td>NaN</td>\n",
              "      <td>690.0</td>\n",
              "      <td>33835.0</td>\n",
              "      <td>Auto</td>\n",
              "      <td>Employed</td>\n",
              "      <td>6</td>\n",
              "      <td>Fair</td>\n",
              "      <td>0.148920</td>\n",
              "      <td>55849.0</td>\n",
              "      <td>0.0</td>\n",
              "      <td>North Catherine</td>\n",
              "      <td>OH</td>\n",
              "      <td>Turkmenistan</td>\n",
              "      <td>3.0</td>\n",
              "      <td>2</td>\n",
              "      <td>Medium</td>\n",
              "    </tr>\n",
              "    <tr>\n",
              "      <th>2</th>\n",
              "      <td>21</td>\n",
              "      <td>Non-binary</td>\n",
              "      <td>Master's</td>\n",
              "      <td>Single</td>\n",
              "      <td>55687.0</td>\n",
              "      <td>600.0</td>\n",
              "      <td>36623.0</td>\n",
              "      <td>Home</td>\n",
              "      <td>Employed</td>\n",
              "      <td>8</td>\n",
              "      <td>Fair</td>\n",
              "      <td>0.362398</td>\n",
              "      <td>180700.0</td>\n",
              "      <td>3.0</td>\n",
              "      <td>South Scott</td>\n",
              "      <td>OK</td>\n",
              "      <td>Luxembourg</td>\n",
              "      <td>3.0</td>\n",
              "      <td>2</td>\n",
              "      <td>Medium</td>\n",
              "    </tr>\n",
              "    <tr>\n",
              "      <th>3</th>\n",
              "      <td>59</td>\n",
              "      <td>Male</td>\n",
              "      <td>Bachelor's</td>\n",
              "      <td>Single</td>\n",
              "      <td>26508.0</td>\n",
              "      <td>622.0</td>\n",
              "      <td>26541.0</td>\n",
              "      <td>Personal</td>\n",
              "      <td>Unemployed</td>\n",
              "      <td>2</td>\n",
              "      <td>Excellent</td>\n",
              "      <td>0.454964</td>\n",
              "      <td>157319.0</td>\n",
              "      <td>3.0</td>\n",
              "      <td>Robinhaven</td>\n",
              "      <td>PR</td>\n",
              "      <td>Uganda</td>\n",
              "      <td>4.0</td>\n",
              "      <td>2</td>\n",
              "      <td>Medium</td>\n",
              "    </tr>\n",
              "    <tr>\n",
              "      <th>4</th>\n",
              "      <td>25</td>\n",
              "      <td>Non-binary</td>\n",
              "      <td>Bachelor's</td>\n",
              "      <td>Widowed</td>\n",
              "      <td>49427.0</td>\n",
              "      <td>766.0</td>\n",
              "      <td>36528.0</td>\n",
              "      <td>Personal</td>\n",
              "      <td>Unemployed</td>\n",
              "      <td>10</td>\n",
              "      <td>Fair</td>\n",
              "      <td>0.143242</td>\n",
              "      <td>287140.0</td>\n",
              "      <td>NaN</td>\n",
              "      <td>New Heather</td>\n",
              "      <td>IL</td>\n",
              "      <td>Namibia</td>\n",
              "      <td>3.0</td>\n",
              "      <td>1</td>\n",
              "      <td>Low</td>\n",
              "    </tr>\n",
              "    <tr>\n",
              "      <th>5</th>\n",
              "      <td>30</td>\n",
              "      <td>Non-binary</td>\n",
              "      <td>PhD</td>\n",
              "      <td>Divorced</td>\n",
              "      <td>NaN</td>\n",
              "      <td>717.0</td>\n",
              "      <td>15613.0</td>\n",
              "      <td>Business</td>\n",
              "      <td>Unemployed</td>\n",
              "      <td>5</td>\n",
              "      <td>Fair</td>\n",
              "      <td>0.295984</td>\n",
              "      <td>NaN</td>\n",
              "      <td>4.0</td>\n",
              "      <td>Brianland</td>\n",
              "      <td>TN</td>\n",
              "      <td>Iceland</td>\n",
              "      <td>3.0</td>\n",
              "      <td>1</td>\n",
              "      <td>Medium</td>\n",
              "    </tr>\n",
              "    <tr>\n",
              "      <th>6</th>\n",
              "      <td>31</td>\n",
              "      <td>Non-binary</td>\n",
              "      <td>Master's</td>\n",
              "      <td>Widowed</td>\n",
              "      <td>45280.0</td>\n",
              "      <td>672.0</td>\n",
              "      <td>6553.0</td>\n",
              "      <td>Personal</td>\n",
              "      <td>Self-employed</td>\n",
              "      <td>1</td>\n",
              "      <td>Good</td>\n",
              "      <td>0.378890</td>\n",
              "      <td>NaN</td>\n",
              "      <td>NaN</td>\n",
              "      <td>West Lindaview</td>\n",
              "      <td>MD</td>\n",
              "      <td>Bouvet Island (Bouvetoya)</td>\n",
              "      <td>0.0</td>\n",
              "      <td>1</td>\n",
              "      <td>Low</td>\n",
              "    </tr>\n",
              "    <tr>\n",
              "      <th>7</th>\n",
              "      <td>18</td>\n",
              "      <td>Male</td>\n",
              "      <td>Bachelor's</td>\n",
              "      <td>Widowed</td>\n",
              "      <td>93678.0</td>\n",
              "      <td>NaN</td>\n",
              "      <td>NaN</td>\n",
              "      <td>Business</td>\n",
              "      <td>Unemployed</td>\n",
              "      <td>10</td>\n",
              "      <td>Poor</td>\n",
              "      <td>0.396636</td>\n",
              "      <td>246597.0</td>\n",
              "      <td>1.0</td>\n",
              "      <td>Melissahaven</td>\n",
              "      <td>MA</td>\n",
              "      <td>Honduras</td>\n",
              "      <td>1.0</td>\n",
              "      <td>1</td>\n",
              "      <td>Low</td>\n",
              "    </tr>\n",
              "    <tr>\n",
              "      <th>8</th>\n",
              "      <td>32</td>\n",
              "      <td>Non-binary</td>\n",
              "      <td>Bachelor's</td>\n",
              "      <td>Widowed</td>\n",
              "      <td>20205.0</td>\n",
              "      <td>710.0</td>\n",
              "      <td>NaN</td>\n",
              "      <td>Auto</td>\n",
              "      <td>Unemployed</td>\n",
              "      <td>4</td>\n",
              "      <td>Fair</td>\n",
              "      <td>0.335965</td>\n",
              "      <td>227599.0</td>\n",
              "      <td>0.0</td>\n",
              "      <td>North Beverly</td>\n",
              "      <td>DC</td>\n",
              "      <td>Pitcairn Islands</td>\n",
              "      <td>4.0</td>\n",
              "      <td>2</td>\n",
              "      <td>Low</td>\n",
              "    </tr>\n",
              "    <tr>\n",
              "      <th>9</th>\n",
              "      <td>55</td>\n",
              "      <td>Male</td>\n",
              "      <td>Bachelor's</td>\n",
              "      <td>Married</td>\n",
              "      <td>32190.0</td>\n",
              "      <td>600.0</td>\n",
              "      <td>29918.0</td>\n",
              "      <td>Personal</td>\n",
              "      <td>Self-employed</td>\n",
              "      <td>5</td>\n",
              "      <td>Excellent</td>\n",
              "      <td>0.484333</td>\n",
              "      <td>130507.0</td>\n",
              "      <td>4.0</td>\n",
              "      <td>Davidstad</td>\n",
              "      <td>VT</td>\n",
              "      <td>Thailand</td>\n",
              "      <td>NaN</td>\n",
              "      <td>2</td>\n",
              "      <td>Low</td>\n",
              "    </tr>\n",
              "  </tbody>\n",
              "</table>\n",
              "</div>"
            ],
            "text/plain": [
              "   Age      Gender Education Level Marital Status   Income  Credit Score  \\\n",
              "0   49        Male             PhD       Divorced  72799.0         688.0   \n",
              "1   57      Female      Bachelor's        Widowed      NaN         690.0   \n",
              "2   21  Non-binary        Master's         Single  55687.0         600.0   \n",
              "3   59        Male      Bachelor's         Single  26508.0         622.0   \n",
              "4   25  Non-binary      Bachelor's        Widowed  49427.0         766.0   \n",
              "5   30  Non-binary             PhD       Divorced      NaN         717.0   \n",
              "6   31  Non-binary        Master's        Widowed  45280.0         672.0   \n",
              "7   18        Male      Bachelor's        Widowed  93678.0           NaN   \n",
              "8   32  Non-binary      Bachelor's        Widowed  20205.0         710.0   \n",
              "9   55        Male      Bachelor's        Married  32190.0         600.0   \n",
              "\n",
              "   Loan Amount Loan Purpose Employment Status  Years at Current Job  \\\n",
              "0      45713.0     Business        Unemployed                    19   \n",
              "1      33835.0         Auto          Employed                     6   \n",
              "2      36623.0         Home          Employed                     8   \n",
              "3      26541.0     Personal        Unemployed                     2   \n",
              "4      36528.0     Personal        Unemployed                    10   \n",
              "5      15613.0     Business        Unemployed                     5   \n",
              "6       6553.0     Personal     Self-employed                     1   \n",
              "7          NaN     Business        Unemployed                    10   \n",
              "8          NaN         Auto        Unemployed                     4   \n",
              "9      29918.0     Personal     Self-employed                     5   \n",
              "\n",
              "  Payment History  Debt-to-Income Ratio  Assets Value  Number of Dependents  \\\n",
              "0            Poor              0.154313      120228.0                   0.0   \n",
              "1            Fair              0.148920       55849.0                   0.0   \n",
              "2            Fair              0.362398      180700.0                   3.0   \n",
              "3       Excellent              0.454964      157319.0                   3.0   \n",
              "4            Fair              0.143242      287140.0                   NaN   \n",
              "5            Fair              0.295984           NaN                   4.0   \n",
              "6            Good              0.378890           NaN                   NaN   \n",
              "7            Poor              0.396636      246597.0                   1.0   \n",
              "8            Fair              0.335965      227599.0                   0.0   \n",
              "9       Excellent              0.484333      130507.0                   4.0   \n",
              "\n",
              "              City State                    Country  Previous Defaults  \\\n",
              "0   Port Elizabeth    AS                     Cyprus                2.0   \n",
              "1  North Catherine    OH               Turkmenistan                3.0   \n",
              "2      South Scott    OK                 Luxembourg                3.0   \n",
              "3       Robinhaven    PR                     Uganda                4.0   \n",
              "4      New Heather    IL                    Namibia                3.0   \n",
              "5        Brianland    TN                    Iceland                3.0   \n",
              "6   West Lindaview    MD  Bouvet Island (Bouvetoya)                0.0   \n",
              "7     Melissahaven    MA                   Honduras                1.0   \n",
              "8    North Beverly    DC           Pitcairn Islands                4.0   \n",
              "9        Davidstad    VT                   Thailand                NaN   \n",
              "\n",
              "   Marital Status Change Risk Rating  \n",
              "0                      2         Low  \n",
              "1                      2      Medium  \n",
              "2                      2      Medium  \n",
              "3                      2      Medium  \n",
              "4                      1         Low  \n",
              "5                      1      Medium  \n",
              "6                      1         Low  \n",
              "7                      1         Low  \n",
              "8                      2         Low  \n",
              "9                      2         Low  "
            ]
          },
          "execution_count": 5,
          "metadata": {},
          "output_type": "execute_result"
        }
      ],
      "source": [
        "df.head(10)"
      ]
    },
    {
      "cell_type": "code",
      "execution_count": 6,
      "metadata": {
        "colab": {
          "base_uri": "https://localhost:8080/"
        },
        "id": "BdYTb-db8v80",
        "outputId": "d4931d52-b888-4b68-b78e-4464ecd793a5"
      },
      "outputs": [
        {
          "name": "stdout",
          "output_type": "stream",
          "text": [
            "<class 'pandas.core.frame.DataFrame'>\n",
            "RangeIndex: 15000 entries, 0 to 14999\n",
            "Data columns (total 20 columns):\n",
            " #   Column                 Non-Null Count  Dtype  \n",
            "---  ------                 --------------  -----  \n",
            " 0   Age                    15000 non-null  int64  \n",
            " 1   Gender                 15000 non-null  object \n",
            " 2   Education Level        15000 non-null  object \n",
            " 3   Marital Status         15000 non-null  object \n",
            " 4   Income                 12750 non-null  float64\n",
            " 5   Credit Score           12750 non-null  float64\n",
            " 6   Loan Amount            12750 non-null  float64\n",
            " 7   Loan Purpose           15000 non-null  object \n",
            " 8   Employment Status      15000 non-null  object \n",
            " 9   Years at Current Job   15000 non-null  int64  \n",
            " 10  Payment History        15000 non-null  object \n",
            " 11  Debt-to-Income Ratio   15000 non-null  float64\n",
            " 12  Assets Value           12750 non-null  float64\n",
            " 13  Number of Dependents   12750 non-null  float64\n",
            " 14  City                   15000 non-null  object \n",
            " 15  State                  15000 non-null  object \n",
            " 16  Country                15000 non-null  object \n",
            " 17  Previous Defaults      12750 non-null  float64\n",
            " 18  Marital Status Change  15000 non-null  int64  \n",
            " 19  Risk Rating            15000 non-null  object \n",
            "dtypes: float64(7), int64(3), object(10)\n",
            "memory usage: 2.3+ MB\n"
          ]
        }
      ],
      "source": [
        "df.info()"
      ]
    },
    {
      "cell_type": "code",
      "execution_count": 7,
      "metadata": {
        "colab": {
          "base_uri": "https://localhost:8080/",
          "height": 337
        },
        "id": "OTuFX41-_45e",
        "outputId": "15e9ae23-ecd6-4b46-ac8c-218396959233"
      },
      "outputs": [
        {
          "data": {
            "text/html": [
              "<div>\n",
              "<style scoped>\n",
              "    .dataframe tbody tr th:only-of-type {\n",
              "        vertical-align: middle;\n",
              "    }\n",
              "\n",
              "    .dataframe tbody tr th {\n",
              "        vertical-align: top;\n",
              "    }\n",
              "\n",
              "    .dataframe thead th {\n",
              "        text-align: right;\n",
              "    }\n",
              "</style>\n",
              "<table border=\"1\" class=\"dataframe\">\n",
              "  <thead>\n",
              "    <tr style=\"text-align: right;\">\n",
              "      <th></th>\n",
              "      <th>Age</th>\n",
              "      <th>Income</th>\n",
              "      <th>Credit Score</th>\n",
              "      <th>Loan Amount</th>\n",
              "      <th>Years at Current Job</th>\n",
              "      <th>Debt-to-Income Ratio</th>\n",
              "      <th>Assets Value</th>\n",
              "      <th>Number of Dependents</th>\n",
              "      <th>Previous Defaults</th>\n",
              "      <th>Marital Status Change</th>\n",
              "    </tr>\n",
              "  </thead>\n",
              "  <tbody>\n",
              "    <tr>\n",
              "      <th>count</th>\n",
              "      <td>15000.000000</td>\n",
              "      <td>12750.000000</td>\n",
              "      <td>12750.000000</td>\n",
              "      <td>12750.000000</td>\n",
              "      <td>15000.000000</td>\n",
              "      <td>15000.000000</td>\n",
              "      <td>12750.000000</td>\n",
              "      <td>12750.00000</td>\n",
              "      <td>12750.000000</td>\n",
              "      <td>15000.000000</td>\n",
              "    </tr>\n",
              "    <tr>\n",
              "      <th>mean</th>\n",
              "      <td>43.452667</td>\n",
              "      <td>69933.398510</td>\n",
              "      <td>699.109098</td>\n",
              "      <td>27450.010902</td>\n",
              "      <td>9.476267</td>\n",
              "      <td>0.350438</td>\n",
              "      <td>159741.497176</td>\n",
              "      <td>2.02651</td>\n",
              "      <td>1.992471</td>\n",
              "      <td>0.998467</td>\n",
              "    </tr>\n",
              "    <tr>\n",
              "      <th>std</th>\n",
              "      <td>14.910732</td>\n",
              "      <td>29163.626207</td>\n",
              "      <td>57.229465</td>\n",
              "      <td>12949.940135</td>\n",
              "      <td>5.769707</td>\n",
              "      <td>0.143919</td>\n",
              "      <td>80298.115832</td>\n",
              "      <td>1.41130</td>\n",
              "      <td>1.416909</td>\n",
              "      <td>0.813782</td>\n",
              "    </tr>\n",
              "    <tr>\n",
              "      <th>min</th>\n",
              "      <td>18.000000</td>\n",
              "      <td>20005.000000</td>\n",
              "      <td>600.000000</td>\n",
              "      <td>5000.000000</td>\n",
              "      <td>0.000000</td>\n",
              "      <td>0.100004</td>\n",
              "      <td>20055.000000</td>\n",
              "      <td>0.00000</td>\n",
              "      <td>0.000000</td>\n",
              "      <td>0.000000</td>\n",
              "    </tr>\n",
              "    <tr>\n",
              "      <th>25%</th>\n",
              "      <td>31.000000</td>\n",
              "      <td>44281.500000</td>\n",
              "      <td>650.000000</td>\n",
              "      <td>16352.500000</td>\n",
              "      <td>4.000000</td>\n",
              "      <td>0.227386</td>\n",
              "      <td>90635.250000</td>\n",
              "      <td>1.00000</td>\n",
              "      <td>1.000000</td>\n",
              "      <td>0.000000</td>\n",
              "    </tr>\n",
              "    <tr>\n",
              "      <th>50%</th>\n",
              "      <td>43.000000</td>\n",
              "      <td>69773.000000</td>\n",
              "      <td>699.000000</td>\n",
              "      <td>27544.000000</td>\n",
              "      <td>9.000000</td>\n",
              "      <td>0.350754</td>\n",
              "      <td>159362.000000</td>\n",
              "      <td>2.00000</td>\n",
              "      <td>2.000000</td>\n",
              "      <td>1.000000</td>\n",
              "    </tr>\n",
              "    <tr>\n",
              "      <th>75%</th>\n",
              "      <td>56.000000</td>\n",
              "      <td>95922.750000</td>\n",
              "      <td>748.000000</td>\n",
              "      <td>38547.500000</td>\n",
              "      <td>15.000000</td>\n",
              "      <td>0.476095</td>\n",
              "      <td>228707.000000</td>\n",
              "      <td>3.00000</td>\n",
              "      <td>3.000000</td>\n",
              "      <td>2.000000</td>\n",
              "    </tr>\n",
              "    <tr>\n",
              "      <th>max</th>\n",
              "      <td>69.000000</td>\n",
              "      <td>119997.000000</td>\n",
              "      <td>799.000000</td>\n",
              "      <td>49998.000000</td>\n",
              "      <td>19.000000</td>\n",
              "      <td>0.599970</td>\n",
              "      <td>299999.000000</td>\n",
              "      <td>4.00000</td>\n",
              "      <td>4.000000</td>\n",
              "      <td>2.000000</td>\n",
              "    </tr>\n",
              "  </tbody>\n",
              "</table>\n",
              "</div>"
            ],
            "text/plain": [
              "                Age         Income  Credit Score   Loan Amount  \\\n",
              "count  15000.000000   12750.000000  12750.000000  12750.000000   \n",
              "mean      43.452667   69933.398510    699.109098  27450.010902   \n",
              "std       14.910732   29163.626207     57.229465  12949.940135   \n",
              "min       18.000000   20005.000000    600.000000   5000.000000   \n",
              "25%       31.000000   44281.500000    650.000000  16352.500000   \n",
              "50%       43.000000   69773.000000    699.000000  27544.000000   \n",
              "75%       56.000000   95922.750000    748.000000  38547.500000   \n",
              "max       69.000000  119997.000000    799.000000  49998.000000   \n",
              "\n",
              "       Years at Current Job  Debt-to-Income Ratio   Assets Value  \\\n",
              "count          15000.000000          15000.000000   12750.000000   \n",
              "mean               9.476267              0.350438  159741.497176   \n",
              "std                5.769707              0.143919   80298.115832   \n",
              "min                0.000000              0.100004   20055.000000   \n",
              "25%                4.000000              0.227386   90635.250000   \n",
              "50%                9.000000              0.350754  159362.000000   \n",
              "75%               15.000000              0.476095  228707.000000   \n",
              "max               19.000000              0.599970  299999.000000   \n",
              "\n",
              "       Number of Dependents  Previous Defaults  Marital Status Change  \n",
              "count           12750.00000       12750.000000           15000.000000  \n",
              "mean                2.02651           1.992471               0.998467  \n",
              "std                 1.41130           1.416909               0.813782  \n",
              "min                 0.00000           0.000000               0.000000  \n",
              "25%                 1.00000           1.000000               0.000000  \n",
              "50%                 2.00000           2.000000               1.000000  \n",
              "75%                 3.00000           3.000000               2.000000  \n",
              "max                 4.00000           4.000000               2.000000  "
            ]
          },
          "execution_count": 7,
          "metadata": {},
          "output_type": "execute_result"
        }
      ],
      "source": [
        "df.describe()"
      ]
    },
    {
      "cell_type": "code",
      "execution_count": 8,
      "metadata": {
        "colab": {
          "base_uri": "https://localhost:8080/",
          "height": 873
        },
        "id": "cA3g8pBnATtd",
        "outputId": "1d20e3c5-4a32-40dc-c131-7a1cbc9011a5"
      },
      "outputs": [
        {
          "data": {
            "image/png": "[encoded data removed]",
            "text/plain": [
              "<Figure size 1500x1000 with 12 Axes>"
            ]
          },
          "metadata": {},
          "output_type": "display_data"
        }
      ],
      "source": [
        "df.hist(bins=30, figsize=(15, 10))\n",
        "plt.show()"
      ]
    },
    {
      "cell_type": "code",
      "execution_count": 9,
      "metadata": {
        "colab": {
          "base_uri": "https://localhost:8080/",
          "height": 728
        },
        "id": "OSewrsdg2x0M",
        "outputId": "2b6d1638-abba-4a15-e159-3e88d6dfc867"
      },
      "outputs": [
        {
          "data": {
            "image/png": "[encoded data removed]",
            "text/plain": [
              "<Figure size 1500x1500 with 21 Axes>"
            ]
          },
          "metadata": {},
          "output_type": "display_data"
        }
      ],
      "source": [
        "df.plot(kind='box', subplots=True, layout=(int(len(df.columns)/3)+1, 3), figsize=(15, 15))\n",
        "plt.show()"
      ]
    },
    {
      "cell_type": "code",
      "execution_count": 10,
      "metadata": {
        "colab": {
          "base_uri": "https://localhost:8080/"
        },
        "id": "7heGMWLW4BXo",
        "outputId": "29bd171d-6db4-4720-d6d1-4b5aa64b1a07"
      },
      "outputs": [
        {
          "name": "stdout",
          "output_type": "stream",
          "text": [
            "Gender\n",
            "Non-binary    5059\n",
            "Female        4990\n",
            "Male          4951\n",
            "Name: count, dtype: int64\n",
            "\n",
            "\n",
            "Education Level\n",
            "Bachelor's     3829\n",
            "High School    3774\n",
            "PhD            3760\n",
            "Master's       3637\n",
            "Name: count, dtype: int64\n",
            "\n",
            "\n",
            "Marital Status\n",
            "Widowed     3893\n",
            "Divorced    3787\n",
            "Single      3697\n",
            "Married     3623\n",
            "Name: count, dtype: int64\n",
            "\n",
            "\n",
            "Loan Purpose\n",
            "Personal    3771\n",
            "Home        3766\n",
            "Business    3738\n",
            "Auto        3725\n",
            "Name: count, dtype: int64\n",
            "\n",
            "\n",
            "Employment Status\n",
            "Employed         5026\n",
            "Self-employed    4991\n",
            "Unemployed       4983\n",
            "Name: count, dtype: int64\n",
            "\n",
            "\n",
            "Payment History\n",
            "Good         3822\n",
            "Excellent    3789\n",
            "Poor         3716\n",
            "Fair         3673\n",
            "Name: count, dtype: int64\n",
            "\n",
            "\n",
            "City\n",
            "East Michael      19\n",
            "Lake Michael      16\n",
            "Port Michael      16\n",
            "West Michael      13\n",
            "Lake James        13\n",
            "                  ..\n",
            "Deborahtown        1\n",
            "Dakotafurt         1\n",
            "West Cassie        1\n",
            "Orrstad            1\n",
            "West Lindaview     1\n",
            "Name: count, Length: 10614, dtype: int64\n",
            "\n",
            "\n",
            "State\n",
            "CO    282\n",
            "PW    279\n",
            "KY    279\n",
            "MP    277\n",
            "DE    277\n",
            "WY    276\n",
            "MO    275\n",
            "CT    275\n",
            "VI    275\n",
            "TX    273\n",
            "TN    270\n",
            "NJ    270\n",
            "AS    269\n",
            "HI    268\n",
            "NC    266\n",
            "MH    266\n",
            "SC    265\n",
            "MT    264\n",
            "WV    264\n",
            "VA    264\n",
            "NE    263\n",
            "OH    261\n",
            "AR    260\n",
            "NM    259\n",
            "MS    258\n",
            "IA    257\n",
            "MD    254\n",
            "IL    253\n",
            "AL    253\n",
            "ME    253\n",
            "DC    252\n",
            "RI    252\n",
            "VT    251\n",
            "AK    250\n",
            "NH    250\n",
            "UT    249\n",
            "GU    249\n",
            "MN    249\n",
            "OR    249\n",
            "KS    249\n",
            "FL    248\n",
            "CA    246\n",
            "MI    246\n",
            "GA    245\n",
            "NV    244\n",
            "SD    240\n",
            "ID    240\n",
            "AZ    240\n",
            "ND    240\n",
            "PR    239\n",
            "LA    239\n",
            "OK    236\n",
            "MA    234\n",
            "WA    233\n",
            "IN    232\n",
            "PA    225\n",
            "WI    225\n",
            "FM    222\n",
            "NY    221\n",
            "Name: count, dtype: int64\n",
            "\n",
            "\n",
            "Country\n",
            "Congo                       124\n",
            "Korea                       122\n",
            "French Guiana                87\n",
            "France                       79\n",
            "Trinidad and Tobago          77\n",
            "                           ... \n",
            "Belgium                      47\n",
            "Turks and Caicos Islands     47\n",
            "Guernsey                     46\n",
            "French Polynesia             45\n",
            "Solomon Islands              43\n",
            "Name: count, Length: 243, dtype: int64\n",
            "\n",
            "\n",
            "Risk Rating\n",
            "Low       9000\n",
            "Medium    4500\n",
            "High      1500\n",
            "Name: count, dtype: int64\n",
            "\n",
            "\n"
          ]
        }
      ],
      "source": [
        "for column in df.select_dtypes(include=['object']).columns:\n",
        "    print(df[column].value_counts())\n",
        "    print('\\n')"
      ]
    },
    {
      "cell_type": "code",
      "execution_count": 11,
      "metadata": {
        "colab": {
          "base_uri": "https://localhost:8080/"
        },
        "id": "2FEyozOfmfX0",
        "outputId": "cb6f0757-cfe6-4d41-fdd5-b807b4609cd5"
      },
      "outputs": [
        {
          "data": {
            "text/plain": [
              "10614"
            ]
          },
          "execution_count": 11,
          "metadata": {},
          "output_type": "execute_result"
        }
      ],
      "source": [
        "df['City'].nunique()"
      ]
    },
    {
      "cell_type": "code",
      "execution_count": 12,
      "metadata": {
        "colab": {
          "base_uri": "https://localhost:8080/"
        },
        "id": "Cj-FaRAJnZl3",
        "outputId": "a834b657-5dd7-4e79-8b31-b2bcbb1971fb"
      },
      "outputs": [
        {
          "data": {
            "text/plain": [
              "243"
            ]
          },
          "execution_count": 12,
          "metadata": {},
          "output_type": "execute_result"
        }
      ],
      "source": [
        "df['Country'].nunique()"
      ]
    },
    {
      "cell_type": "code",
      "execution_count": 13,
      "metadata": {
        "colab": {
          "base_uri": "https://localhost:8080/"
        },
        "id": "TpLNLw6Aneae",
        "outputId": "be0cb446-1944-433a-9993-c60cdcc2bb01"
      },
      "outputs": [
        {
          "data": {
            "text/plain": [
              "59"
            ]
          },
          "execution_count": 13,
          "metadata": {},
          "output_type": "execute_result"
        }
      ],
      "source": [
        "df['State'].nunique()"
      ]
    },
    {
      "cell_type": "code",
      "execution_count": 14,
      "metadata": {
        "colab": {
          "base_uri": "https://localhost:8080/",
          "height": 511
        },
        "id": "rc4lSjli_GjG",
        "outputId": "a6ba1898-551c-4af3-a6b3-acda4c625145"
      },
      "outputs": [
        {
          "data": {
            "image/png": "[encoded data removed]",
            "text/plain": [
              "<Figure size 640x480 with 1 Axes>"
            ]
          },
          "metadata": {},
          "output_type": "display_data"
        }
      ],
      "source": [
        "df['Risk Rating'].value_counts().plot(kind='bar')\n",
        "plt.show()"
      ]
    },
    {
      "cell_type": "markdown",
      "metadata": {
        "id": "6RDXgzXMCEI0"
      },
      "source": [
        "# Data Preprocessing"
      ]
    },
    {
      "cell_type": "code",
      "execution_count": 15,
      "metadata": {
        "id": "tuDdNJNgDhZE"
      },
      "outputs": [],
      "source": [
        "#Drop rows with missing values\n",
        "df = df.dropna()"
      ]
    },
    {
      "cell_type": "code",
      "execution_count": 16,
      "metadata": {
        "colab": {
          "base_uri": "https://localhost:8080/",
          "height": 330
        },
        "id": "qEA3oSkOEKpg",
        "outputId": "6108d8f3-ca0c-4ac3-e414-eb3d69a10cc5"
      },
      "outputs": [
        {
          "data": {
            "text/html": [
              "<div>\n",
              "<style scoped>\n",
              "    .dataframe tbody tr th:only-of-type {\n",
              "        vertical-align: middle;\n",
              "    }\n",
              "\n",
              "    .dataframe tbody tr th {\n",
              "        vertical-align: top;\n",
              "    }\n",
              "\n",
              "    .dataframe thead th {\n",
              "        text-align: right;\n",
              "    }\n",
              "</style>\n",
              "<table border=\"1\" class=\"dataframe\">\n",
              "  <thead>\n",
              "    <tr style=\"text-align: right;\">\n",
              "      <th></th>\n",
              "      <th>Age</th>\n",
              "      <th>Gender</th>\n",
              "      <th>Education Level</th>\n",
              "      <th>Marital Status</th>\n",
              "      <th>Income</th>\n",
              "      <th>Credit Score</th>\n",
              "      <th>Loan Amount</th>\n",
              "      <th>Loan Purpose</th>\n",
              "      <th>Employment Status</th>\n",
              "      <th>Years at Current Job</th>\n",
              "      <th>Payment History</th>\n",
              "      <th>Debt-to-Income Ratio</th>\n",
              "      <th>Assets Value</th>\n",
              "      <th>Number of Dependents</th>\n",
              "      <th>City</th>\n",
              "      <th>State</th>\n",
              "      <th>Country</th>\n",
              "      <th>Previous Defaults</th>\n",
              "      <th>Marital Status Change</th>\n",
              "      <th>Risk Rating</th>\n",
              "    </tr>\n",
              "  </thead>\n",
              "  <tbody>\n",
              "    <tr>\n",
              "      <th>0</th>\n",
              "      <td>49</td>\n",
              "      <td>Male</td>\n",
              "      <td>PhD</td>\n",
              "      <td>Divorced</td>\n",
              "      <td>72799.0</td>\n",
              "      <td>688.0</td>\n",
              "      <td>45713.0</td>\n",
              "      <td>Business</td>\n",
              "      <td>Unemployed</td>\n",
              "      <td>19</td>\n",
              "      <td>Poor</td>\n",
              "      <td>0.154313</td>\n",
              "      <td>120228.0</td>\n",
              "      <td>0.0</td>\n",
              "      <td>Port Elizabeth</td>\n",
              "      <td>AS</td>\n",
              "      <td>Cyprus</td>\n",
              "      <td>2.0</td>\n",
              "      <td>2</td>\n",
              "      <td>Low</td>\n",
              "    </tr>\n",
              "    <tr>\n",
              "      <th>2</th>\n",
              "      <td>21</td>\n",
              "      <td>Non-binary</td>\n",
              "      <td>Master's</td>\n",
              "      <td>Single</td>\n",
              "      <td>55687.0</td>\n",
              "      <td>600.0</td>\n",
              "      <td>36623.0</td>\n",
              "      <td>Home</td>\n",
              "      <td>Employed</td>\n",
              "      <td>8</td>\n",
              "      <td>Fair</td>\n",
              "      <td>0.362398</td>\n",
              "      <td>180700.0</td>\n",
              "      <td>3.0</td>\n",
              "      <td>South Scott</td>\n",
              "      <td>OK</td>\n",
              "      <td>Luxembourg</td>\n",
              "      <td>3.0</td>\n",
              "      <td>2</td>\n",
              "      <td>Medium</td>\n",
              "    </tr>\n",
              "    <tr>\n",
              "      <th>3</th>\n",
              "      <td>59</td>\n",
              "      <td>Male</td>\n",
              "      <td>Bachelor's</td>\n",
              "      <td>Single</td>\n",
              "      <td>26508.0</td>\n",
              "      <td>622.0</td>\n",
              "      <td>26541.0</td>\n",
              "      <td>Personal</td>\n",
              "      <td>Unemployed</td>\n",
              "      <td>2</td>\n",
              "      <td>Excellent</td>\n",
              "      <td>0.454964</td>\n",
              "      <td>157319.0</td>\n",
              "      <td>3.0</td>\n",
              "      <td>Robinhaven</td>\n",
              "      <td>PR</td>\n",
              "      <td>Uganda</td>\n",
              "      <td>4.0</td>\n",
              "      <td>2</td>\n",
              "      <td>Medium</td>\n",
              "    </tr>\n",
              "    <tr>\n",
              "      <th>10</th>\n",
              "      <td>42</td>\n",
              "      <td>Non-binary</td>\n",
              "      <td>Master's</td>\n",
              "      <td>Single</td>\n",
              "      <td>116212.0</td>\n",
              "      <td>707.0</td>\n",
              "      <td>24771.0</td>\n",
              "      <td>Home</td>\n",
              "      <td>Employed</td>\n",
              "      <td>11</td>\n",
              "      <td>Excellent</td>\n",
              "      <td>0.114134</td>\n",
              "      <td>212198.0</td>\n",
              "      <td>3.0</td>\n",
              "      <td>Matthewborough</td>\n",
              "      <td>NH</td>\n",
              "      <td>French Guiana</td>\n",
              "      <td>0.0</td>\n",
              "      <td>2</td>\n",
              "      <td>Medium</td>\n",
              "    </tr>\n",
              "    <tr>\n",
              "      <th>16</th>\n",
              "      <td>55</td>\n",
              "      <td>Male</td>\n",
              "      <td>High School</td>\n",
              "      <td>Married</td>\n",
              "      <td>70978.0</td>\n",
              "      <td>706.0</td>\n",
              "      <td>36970.0</td>\n",
              "      <td>Personal</td>\n",
              "      <td>Unemployed</td>\n",
              "      <td>19</td>\n",
              "      <td>Excellent</td>\n",
              "      <td>0.266941</td>\n",
              "      <td>54041.0</td>\n",
              "      <td>3.0</td>\n",
              "      <td>Christophermouth</td>\n",
              "      <td>MO</td>\n",
              "      <td>Tonga</td>\n",
              "      <td>1.0</td>\n",
              "      <td>0</td>\n",
              "      <td>Medium</td>\n",
              "    </tr>\n",
              "  </tbody>\n",
              "</table>\n",
              "</div>"
            ],
            "text/plain": [
              "    Age      Gender Education Level Marital Status    Income  Credit Score  \\\n",
              "0    49        Male             PhD       Divorced   72799.0         688.0   \n",
              "2    21  Non-binary        Master's         Single   55687.0         600.0   \n",
              "3    59        Male      Bachelor's         Single   26508.0         622.0   \n",
              "10   42  Non-binary        Master's         Single  116212.0         707.0   \n",
              "16   55        Male     High School        Married   70978.0         706.0   \n",
              "\n",
              "    Loan Amount Loan Purpose Employment Status  Years at Current Job  \\\n",
              "0       45713.0     Business        Unemployed                    19   \n",
              "2       36623.0         Home          Employed                     8   \n",
              "3       26541.0     Personal        Unemployed                     2   \n",
              "10      24771.0         Home          Employed                    11   \n",
              "16      36970.0     Personal        Unemployed                    19   \n",
              "\n",
              "   Payment History  Debt-to-Income Ratio  Assets Value  Number of Dependents  \\\n",
              "0             Poor              0.154313      120228.0                   0.0   \n",
              "2             Fair              0.362398      180700.0                   3.0   \n",
              "3        Excellent              0.454964      157319.0                   3.0   \n",
              "10       Excellent              0.114134      212198.0                   3.0   \n",
              "16       Excellent              0.266941       54041.0                   3.0   \n",
              "\n",
              "                City State        Country  Previous Defaults  \\\n",
              "0     Port Elizabeth    AS         Cyprus                2.0   \n",
              "2        South Scott    OK     Luxembourg                3.0   \n",
              "3         Robinhaven    PR         Uganda                4.0   \n",
              "10    Matthewborough    NH  French Guiana                0.0   \n",
              "16  Christophermouth    MO          Tonga                1.0   \n",
              "\n",
              "    Marital Status Change Risk Rating  \n",
              "0                       2         Low  \n",
              "2                       2      Medium  \n",
              "3                       2      Medium  \n",
              "10                      2      Medium  \n",
              "16                      0      Medium  "
            ]
          },
          "execution_count": 16,
          "metadata": {},
          "output_type": "execute_result"
        }
      ],
      "source": [
        "df.head()"
      ]
    },
    {
      "cell_type": "code",
      "execution_count": 17,
      "metadata": {
        "id": "ww2zhujYE017"
      },
      "outputs": [],
      "source": [
        "#remove duplicates\n",
        "df = df.drop_duplicates()"
      ]
    },
    {
      "cell_type": "code",
      "execution_count": 18,
      "metadata": {
        "colab": {
          "base_uri": "https://localhost:8080/"
        },
        "id": "4Nw30IBsgRSD",
        "outputId": "e13ebd90-7e80-40fc-bab0-e68d8217855d"
      },
      "outputs": [
        {
          "data": {
            "text/plain": [
              "(5716, 20)"
            ]
          },
          "execution_count": 18,
          "metadata": {},
          "output_type": "execute_result"
        }
      ],
      "source": [
        "df.shape"
      ]
    },
    {
      "cell_type": "code",
      "execution_count": 19,
      "metadata": {
        "id": "JmV-T5YPhSk0"
      },
      "outputs": [],
      "source": [
        "#encoding\n",
        "\n",
        "#Ordinal encoding for Risk Rating\n",
        "risk_mapping = {'Low': 1, 'Medium': 2, 'High': 3}\n",
        "df['Risk Rating'] = df['Risk Rating'].map(risk_mapping)"
      ]
    },
    {
      "cell_type": "code",
      "execution_count": 20,
      "metadata": {
        "colab": {
          "base_uri": "https://localhost:8080/"
        },
        "id": "MQbRxRqisQXA",
        "outputId": "9bf07787-0189-41c0-d443-e64d70006b51"
      },
      "outputs": [
        {
          "data": {
            "text/plain": [
              "array(['Cyprus', 'Luxembourg', 'Uganda', 'French Guiana', 'Tonga',\n",
              "       'Isle of Man', 'South Georgia and the South Sandwich Islands',\n",
              "       'Guyana', 'Seychelles', 'Vietnam', 'Falkland Islands (Malvinas)',\n",
              "       'Dominica', 'Brunei Darussalam', 'French Polynesia', 'Zimbabwe',\n",
              "       'Haiti', 'Armenia', 'Egypt', 'Jordan', 'Thailand', 'Botswana',\n",
              "       'Russian Federation', 'Mali', 'Ukraine', 'Ethiopia', 'Angola',\n",
              "       'Guatemala', 'Monaco', 'Gambia', 'Romania',\n",
              "       'Palestinian Territory', 'Singapore', 'Saint Pierre and Miquelon',\n",
              "       'Lesotho', 'Argentina', 'South Africa', 'El Salvador', 'Jersey',\n",
              "       'Suriname', 'Mayotte', 'Samoa', 'Micronesia', 'Azerbaijan',\n",
              "       'Austria', 'Indonesia', 'Peru', 'Norway', 'Bangladesh',\n",
              "       'Sao Tome and Principe', 'Martinique', 'Finland', 'Andorra',\n",
              "       'Libyan Arab Jamahiriya', 'Costa Rica', 'Western Sahara',\n",
              "       'Vanuatu', 'Pakistan', 'Grenada', 'New Caledonia', 'Cape Verde',\n",
              "       'Marshall Islands', 'Wallis and Futuna', 'Morocco', 'Iraq',\n",
              "       'Bulgaria', 'Mauritius', 'Mauritania', 'Namibia',\n",
              "       'Holy See (Vatican City State)', 'North Macedonia', 'Liberia',\n",
              "       'India', 'Tajikistan', 'Georgia', 'Congo', 'Saint Lucia', 'Yemen',\n",
              "       'Bermuda', 'Niue', 'Greece',\n",
              "       'United States Minor Outlying Islands', 'Japan', 'Taiwan',\n",
              "       'Tunisia', 'Reunion', \"Cote d'Ivoire\", 'Bhutan',\n",
              "       'United States of America', 'Saint Kitts and Nevis',\n",
              "       'Equatorial Guinea', 'Myanmar', 'Serbia', 'Oman', 'Niger', 'Chile',\n",
              "       'Korea', 'Portugal', 'Rwanda', 'Algeria', 'Cambodia',\n",
              "       'Christmas Island', 'Turkey', 'Sierra Leone', 'Kenya',\n",
              "       'Papua New Guinea', 'Moldova', 'Poland',\n",
              "       'Saint Vincent and the Grenadines', 'Senegal', 'Italy',\n",
              "       'Slovakia (Slovak Republic)',\n",
              "       'British Indian Ocean Territory (Chagos Archipelago)',\n",
              "       'San Marino', 'Norfolk Island', 'Trinidad and Tobago', 'Aruba',\n",
              "       'Afghanistan', 'Macao', 'Antigua and Barbuda', 'Guinea',\n",
              "       'Pitcairn Islands', 'Kuwait', 'Sweden', 'Panama', 'Venezuela',\n",
              "       'Bolivia', 'Benin', 'Guernsey', 'Netherlands Antilles',\n",
              "       'Saudi Arabia', 'Chad', 'Lebanon', 'Saint Barthelemy', 'Nauru',\n",
              "       'Cayman Islands', 'Mozambique', 'Burkina Faso', 'Puerto Rico',\n",
              "       'Kazakhstan', 'Guam', 'Paraguay', 'Australia',\n",
              "       'United Arab Emirates', 'Gibraltar', 'Honduras', 'Nigeria',\n",
              "       'Nicaragua', 'Belize', 'Latvia', 'Palau', 'Dominican Republic',\n",
              "       'Timor-Leste', 'Montserrat', 'Fiji', 'Malawi', 'Comoros',\n",
              "       'Jamaica', 'Croatia', 'Hong Kong', 'Malta', 'Germany', 'Mongolia',\n",
              "       'Northern Mariana Islands', 'Cocos (Keeling) Islands',\n",
              "       'Turks and Caicos Islands', 'Tanzania', 'Albania',\n",
              "       'Bouvet Island (Bouvetoya)', 'China', 'Turkmenistan', 'Tokelau',\n",
              "       'Uruguay', 'Bahamas', 'Qatar', 'Central African Republic',\n",
              "       'Syrian Arab Republic', 'Saint Martin', 'Slovenia', 'Barbados',\n",
              "       'Denmark', 'New Zealand',\n",
              "       'Antarctica (the territory South of 60 deg S)', 'Togo',\n",
              "       'United States Virgin Islands', 'Belarus', 'Kyrgyz Republic',\n",
              "       'Belgium', 'Eritrea', 'France', 'Colombia', 'Faroe Islands',\n",
              "       'Djibouti', 'Burundi', 'Estonia', 'Uzbekistan', 'Tuvalu',\n",
              "       'Ecuador', 'Netherlands', 'Zambia', 'Kiribati',\n",
              "       \"Lao People's Democratic Republic\", 'British Virgin Islands',\n",
              "       'Sudan', 'American Samoa', 'Anguilla',\n",
              "       'Heard Island and McDonald Islands', 'Bosnia and Herzegovina',\n",
              "       'Mexico', 'Svalbard & Jan Mayen Islands', 'Bahrain', 'Swaziland',\n",
              "       'Lithuania', 'Maldives', 'Ireland', 'Spain', 'Cuba', 'Switzerland',\n",
              "       'Philippines', 'Greenland', 'Israel', 'Czech Republic', 'Somalia',\n",
              "       'Hungary', 'Cameroon', 'Montenegro', 'Nepal',\n",
              "       'French Southern Territories', 'Guadeloupe', 'Saint Helena',\n",
              "       'Liechtenstein', 'Iran', 'Guinea-Bissau', 'Ghana', 'Gabon',\n",
              "       'Malaysia', 'Iceland', 'Brazil', 'Canada', 'Cook Islands',\n",
              "       'Sri Lanka', 'Madagascar', 'United Kingdom', 'Solomon Islands'],\n",
              "      dtype=object)"
            ]
          },
          "execution_count": 20,
          "metadata": {},
          "output_type": "execute_result"
        }
      ],
      "source": [
        "df['Country'].unique()"
      ]
    },
    {
      "cell_type": "code",
      "execution_count": 21,
      "metadata": {
        "id": "in6TEyLCNZ59"
      },
      "outputs": [],
      "source": [
        "def country_to_continent(country_name):\n",
        "    try:\n",
        "        country_alpha2 = pycountry.countries.lookup(country_name).alpha_2\n",
        "        continent_code = pc.country_alpha2_to_continent_code(country_alpha2)\n",
        "        continents = {\n",
        "            'AF': 'Africa',\n",
        "            'AS': 'Asia',\n",
        "            'EU': 'Europe',\n",
        "            'NA': 'North America',\n",
        "            'SA': 'South America',\n",
        "            'OC': 'Oceania',\n",
        "            'AN': 'Antarctica'\n",
        "        }\n",
        "        return continents[continent_code]\n",
        "    except (KeyError, LookupError):\n",
        "        return 'Unknown'"
      ]
    },
    {
      "cell_type": "code",
      "execution_count": 22,
      "metadata": {
        "id": "xobUHEj7NgoN"
      },
      "outputs": [],
      "source": [
        "df['Continent'] = df['Country'].apply(country_to_continent)"
      ]
    },
    {
      "cell_type": "code",
      "execution_count": 23,
      "metadata": {
        "id": "Oerk4Rjcn7yg"
      },
      "outputs": [],
      "source": [
        "# drop state and city columns\n",
        "df = df.drop(columns=['State', 'City', 'Country'])"
      ]
    },
    {
      "cell_type": "code",
      "execution_count": 24,
      "metadata": {
        "colab": {
          "base_uri": "https://localhost:8080/",
          "height": 330
        },
        "id": "4QY4TN1_yXwi",
        "outputId": "c6e35c0a-9539-4fb0-96f6-8e1c26fa31b9"
      },
      "outputs": [
        {
          "data": {
            "text/html": [
              "<div>\n",
              "<style scoped>\n",
              "    .dataframe tbody tr th:only-of-type {\n",
              "        vertical-align: middle;\n",
              "    }\n",
              "\n",
              "    .dataframe tbody tr th {\n",
              "        vertical-align: top;\n",
              "    }\n",
              "\n",
              "    .dataframe thead th {\n",
              "        text-align: right;\n",
              "    }\n",
              "</style>\n",
              "<table border=\"1\" class=\"dataframe\">\n",
              "  <thead>\n",
              "    <tr style=\"text-align: right;\">\n",
              "      <th></th>\n",
              "      <th>Age</th>\n",
              "      <th>Gender</th>\n",
              "      <th>Education Level</th>\n",
              "      <th>Marital Status</th>\n",
              "      <th>Income</th>\n",
              "      <th>Credit Score</th>\n",
              "      <th>Loan Amount</th>\n",
              "      <th>Loan Purpose</th>\n",
              "      <th>Employment Status</th>\n",
              "      <th>Years at Current Job</th>\n",
              "      <th>Payment History</th>\n",
              "      <th>Debt-to-Income Ratio</th>\n",
              "      <th>Assets Value</th>\n",
              "      <th>Number of Dependents</th>\n",
              "      <th>Previous Defaults</th>\n",
              "      <th>Marital Status Change</th>\n",
              "      <th>Risk Rating</th>\n",
              "      <th>Continent</th>\n",
              "    </tr>\n",
              "  </thead>\n",
              "  <tbody>\n",
              "    <tr>\n",
              "      <th>0</th>\n",
              "      <td>49</td>\n",
              "      <td>Male</td>\n",
              "      <td>PhD</td>\n",
              "      <td>Divorced</td>\n",
              "      <td>72799.0</td>\n",
              "      <td>688.0</td>\n",
              "      <td>45713.0</td>\n",
              "      <td>Business</td>\n",
              "      <td>Unemployed</td>\n",
              "      <td>19</td>\n",
              "      <td>Poor</td>\n",
              "      <td>0.154313</td>\n",
              "      <td>120228.0</td>\n",
              "      <td>0.0</td>\n",
              "      <td>2.0</td>\n",
              "      <td>2</td>\n",
              "      <td>1</td>\n",
              "      <td>Asia</td>\n",
              "    </tr>\n",
              "    <tr>\n",
              "      <th>2</th>\n",
              "      <td>21</td>\n",
              "      <td>Non-binary</td>\n",
              "      <td>Master's</td>\n",
              "      <td>Single</td>\n",
              "      <td>55687.0</td>\n",
              "      <td>600.0</td>\n",
              "      <td>36623.0</td>\n",
              "      <td>Home</td>\n",
              "      <td>Employed</td>\n",
              "      <td>8</td>\n",
              "      <td>Fair</td>\n",
              "      <td>0.362398</td>\n",
              "      <td>180700.0</td>\n",
              "      <td>3.0</td>\n",
              "      <td>3.0</td>\n",
              "      <td>2</td>\n",
              "      <td>2</td>\n",
              "      <td>Europe</td>\n",
              "    </tr>\n",
              "    <tr>\n",
              "      <th>3</th>\n",
              "      <td>59</td>\n",
              "      <td>Male</td>\n",
              "      <td>Bachelor's</td>\n",
              "      <td>Single</td>\n",
              "      <td>26508.0</td>\n",
              "      <td>622.0</td>\n",
              "      <td>26541.0</td>\n",
              "      <td>Personal</td>\n",
              "      <td>Unemployed</td>\n",
              "      <td>2</td>\n",
              "      <td>Excellent</td>\n",
              "      <td>0.454964</td>\n",
              "      <td>157319.0</td>\n",
              "      <td>3.0</td>\n",
              "      <td>4.0</td>\n",
              "      <td>2</td>\n",
              "      <td>2</td>\n",
              "      <td>Africa</td>\n",
              "    </tr>\n",
              "    <tr>\n",
              "      <th>10</th>\n",
              "      <td>42</td>\n",
              "      <td>Non-binary</td>\n",
              "      <td>Master's</td>\n",
              "      <td>Single</td>\n",
              "      <td>116212.0</td>\n",
              "      <td>707.0</td>\n",
              "      <td>24771.0</td>\n",
              "      <td>Home</td>\n",
              "      <td>Employed</td>\n",
              "      <td>11</td>\n",
              "      <td>Excellent</td>\n",
              "      <td>0.114134</td>\n",
              "      <td>212198.0</td>\n",
              "      <td>3.0</td>\n",
              "      <td>0.0</td>\n",
              "      <td>2</td>\n",
              "      <td>2</td>\n",
              "      <td>South America</td>\n",
              "    </tr>\n",
              "    <tr>\n",
              "      <th>16</th>\n",
              "      <td>55</td>\n",
              "      <td>Male</td>\n",
              "      <td>High School</td>\n",
              "      <td>Married</td>\n",
              "      <td>70978.0</td>\n",
              "      <td>706.0</td>\n",
              "      <td>36970.0</td>\n",
              "      <td>Personal</td>\n",
              "      <td>Unemployed</td>\n",
              "      <td>19</td>\n",
              "      <td>Excellent</td>\n",
              "      <td>0.266941</td>\n",
              "      <td>54041.0</td>\n",
              "      <td>3.0</td>\n",
              "      <td>1.0</td>\n",
              "      <td>0</td>\n",
              "      <td>2</td>\n",
              "      <td>Oceania</td>\n",
              "    </tr>\n",
              "  </tbody>\n",
              "</table>\n",
              "</div>"
            ],
            "text/plain": [
              "    Age      Gender Education Level Marital Status    Income  Credit Score  \\\n",
              "0    49        Male             PhD       Divorced   72799.0         688.0   \n",
              "2    21  Non-binary        Master's         Single   55687.0         600.0   \n",
              "3    59        Male      Bachelor's         Single   26508.0         622.0   \n",
              "10   42  Non-binary        Master's         Single  116212.0         707.0   \n",
              "16   55        Male     High School        Married   70978.0         706.0   \n",
              "\n",
              "    Loan Amount Loan Purpose Employment Status  Years at Current Job  \\\n",
              "0       45713.0     Business        Unemployed                    19   \n",
              "2       36623.0         Home          Employed                     8   \n",
              "3       26541.0     Personal        Unemployed                     2   \n",
              "10      24771.0         Home          Employed                    11   \n",
              "16      36970.0     Personal        Unemployed                    19   \n",
              "\n",
              "   Payment History  Debt-to-Income Ratio  Assets Value  Number of Dependents  \\\n",
              "0             Poor              0.154313      120228.0                   0.0   \n",
              "2             Fair              0.362398      180700.0                   3.0   \n",
              "3        Excellent              0.454964      157319.0                   3.0   \n",
              "10       Excellent              0.114134      212198.0                   3.0   \n",
              "16       Excellent              0.266941       54041.0                   3.0   \n",
              "\n",
              "    Previous Defaults  Marital Status Change  Risk Rating      Continent  \n",
              "0                 2.0                      2            1           Asia  \n",
              "2                 3.0                      2            2         Europe  \n",
              "3                 4.0                      2            2         Africa  \n",
              "10                0.0                      2            2  South America  \n",
              "16                1.0                      0            2        Oceania  "
            ]
          },
          "execution_count": 24,
          "metadata": {},
          "output_type": "execute_result"
        }
      ],
      "source": [
        "df.head()"
      ]
    },
    {
      "cell_type": "code",
      "execution_count": 25,
      "metadata": {
        "colab": {
          "base_uri": "https://localhost:8080/"
        },
        "id": "3kSOHMTMybPO",
        "outputId": "0a7fbd06-65fc-4334-fd3e-1956a9019ceb"
      },
      "outputs": [
        {
          "data": {
            "text/plain": [
              "(5716, 18)"
            ]
          },
          "execution_count": 25,
          "metadata": {},
          "output_type": "execute_result"
        }
      ],
      "source": [
        "df.shape"
      ]
    },
    {
      "cell_type": "code",
      "execution_count": 26,
      "metadata": {
        "colab": {
          "base_uri": "https://localhost:8080/"
        },
        "id": "5ZhMkZTrIVmu",
        "outputId": "fec261f3-e151-4a7f-b900-9b4005c3b3df"
      },
      "outputs": [
        {
          "data": {
            "text/plain": [
              "8"
            ]
          },
          "execution_count": 26,
          "metadata": {},
          "output_type": "execute_result"
        }
      ],
      "source": [
        "df['Continent'].nunique()"
      ]
    },
    {
      "cell_type": "code",
      "execution_count": 27,
      "metadata": {
        "colab": {
          "base_uri": "https://localhost:8080/"
        },
        "id": "70OK39uBIkFv",
        "outputId": "7305b6c8-94b9-48ff-88cf-23bcec7b4395"
      },
      "outputs": [
        {
          "data": {
            "text/plain": [
              "array(['Asia', 'Europe', 'Africa', 'South America', 'Oceania',\n",
              "       'North America', 'Unknown', 'Antarctica'], dtype=object)"
            ]
          },
          "execution_count": 27,
          "metadata": {},
          "output_type": "execute_result"
        }
      ],
      "source": [
        "df['Continent'].unique()"
      ]
    },
    {
      "cell_type": "code",
      "execution_count": 28,
      "metadata": {
        "id": "C4eQF3HgLIr3"
      },
      "outputs": [],
      "source": [
        "#One-Hot encoding for Education Level, Marital Status, Loan Purpose, Employment Status, and Payment History\n",
        "df = pd.get_dummies(df, columns=['Gender', 'Education Level', 'Marital Status', 'Loan Purpose', 'Employment Status', 'Payment History', 'Continent'])"
      ]
    },
    {
      "cell_type": "code",
      "execution_count": 29,
      "metadata": {
        "colab": {
          "base_uri": "https://localhost:8080/",
          "height": 307
        },
        "id": "iUkhAQHKj_fz",
        "outputId": "4222fd9b-5f71-4346-a016-990802c2a626"
      },
      "outputs": [
        {
          "data": {
            "text/html": [
              "<div>\n",
              "<style scoped>\n",
              "    .dataframe tbody tr th:only-of-type {\n",
              "        vertical-align: middle;\n",
              "    }\n",
              "\n",
              "    .dataframe tbody tr th {\n",
              "        vertical-align: top;\n",
              "    }\n",
              "\n",
              "    .dataframe thead th {\n",
              "        text-align: right;\n",
              "    }\n",
              "</style>\n",
              "<table border=\"1\" class=\"dataframe\">\n",
              "  <thead>\n",
              "    <tr style=\"text-align: right;\">\n",
              "      <th></th>\n",
              "      <th>Age</th>\n",
              "      <th>Income</th>\n",
              "      <th>Credit Score</th>\n",
              "      <th>Loan Amount</th>\n",
              "      <th>Years at Current Job</th>\n",
              "      <th>Debt-to-Income Ratio</th>\n",
              "      <th>Assets Value</th>\n",
              "      <th>Number of Dependents</th>\n",
              "      <th>Previous Defaults</th>\n",
              "      <th>Marital Status Change</th>\n",
              "      <th>...</th>\n",
              "      <th>Payment History_Good</th>\n",
              "      <th>Payment History_Poor</th>\n",
              "      <th>Continent_Africa</th>\n",
              "      <th>Continent_Antarctica</th>\n",
              "      <th>Continent_Asia</th>\n",
              "      <th>Continent_Europe</th>\n",
              "      <th>Continent_North America</th>\n",
              "      <th>Continent_Oceania</th>\n",
              "      <th>Continent_South America</th>\n",
              "      <th>Continent_Unknown</th>\n",
              "    </tr>\n",
              "  </thead>\n",
              "  <tbody>\n",
              "    <tr>\n",
              "      <th>0</th>\n",
              "      <td>49</td>\n",
              "      <td>72799.0</td>\n",
              "      <td>688.0</td>\n",
              "      <td>45713.0</td>\n",
              "      <td>19</td>\n",
              "      <td>0.154313</td>\n",
              "      <td>120228.0</td>\n",
              "      <td>0.0</td>\n",
              "      <td>2.0</td>\n",
              "      <td>2</td>\n",
              "      <td>...</td>\n",
              "      <td>False</td>\n",
              "      <td>True</td>\n",
              "      <td>False</td>\n",
              "      <td>False</td>\n",
              "      <td>True</td>\n",
              "      <td>False</td>\n",
              "      <td>False</td>\n",
              "      <td>False</td>\n",
              "      <td>False</td>\n",
              "      <td>False</td>\n",
              "    </tr>\n",
              "    <tr>\n",
              "      <th>2</th>\n",
              "      <td>21</td>\n",
              "      <td>55687.0</td>\n",
              "      <td>600.0</td>\n",
              "      <td>36623.0</td>\n",
              "      <td>8</td>\n",
              "      <td>0.362398</td>\n",
              "      <td>180700.0</td>\n",
              "      <td>3.0</td>\n",
              "      <td>3.0</td>\n",
              "      <td>2</td>\n",
              "      <td>...</td>\n",
              "      <td>False</td>\n",
              "      <td>False</td>\n",
              "      <td>False</td>\n",
              "      <td>False</td>\n",
              "      <td>False</td>\n",
              "      <td>True</td>\n",
              "      <td>False</td>\n",
              "      <td>False</td>\n",
              "      <td>False</td>\n",
              "      <td>False</td>\n",
              "    </tr>\n",
              "    <tr>\n",
              "      <th>3</th>\n",
              "      <td>59</td>\n",
              "      <td>26508.0</td>\n",
              "      <td>622.0</td>\n",
              "      <td>26541.0</td>\n",
              "      <td>2</td>\n",
              "      <td>0.454964</td>\n",
              "      <td>157319.0</td>\n",
              "      <td>3.0</td>\n",
              "      <td>4.0</td>\n",
              "      <td>2</td>\n",
              "      <td>...</td>\n",
              "      <td>False</td>\n",
              "      <td>False</td>\n",
              "      <td>True</td>\n",
              "      <td>False</td>\n",
              "      <td>False</td>\n",
              "      <td>False</td>\n",
              "      <td>False</td>\n",
              "      <td>False</td>\n",
              "      <td>False</td>\n",
              "      <td>False</td>\n",
              "    </tr>\n",
              "    <tr>\n",
              "      <th>10</th>\n",
              "      <td>42</td>\n",
              "      <td>116212.0</td>\n",
              "      <td>707.0</td>\n",
              "      <td>24771.0</td>\n",
              "      <td>11</td>\n",
              "      <td>0.114134</td>\n",
              "      <td>212198.0</td>\n",
              "      <td>3.0</td>\n",
              "      <td>0.0</td>\n",
              "      <td>2</td>\n",
              "      <td>...</td>\n",
              "      <td>False</td>\n",
              "      <td>False</td>\n",
              "      <td>False</td>\n",
              "      <td>False</td>\n",
              "      <td>False</td>\n",
              "      <td>False</td>\n",
              "      <td>False</td>\n",
              "      <td>False</td>\n",
              "      <td>True</td>\n",
              "      <td>False</td>\n",
              "    </tr>\n",
              "    <tr>\n",
              "      <th>16</th>\n",
              "      <td>55</td>\n",
              "      <td>70978.0</td>\n",
              "      <td>706.0</td>\n",
              "      <td>36970.0</td>\n",
              "      <td>19</td>\n",
              "      <td>0.266941</td>\n",
              "      <td>54041.0</td>\n",
              "      <td>3.0</td>\n",
              "      <td>1.0</td>\n",
              "      <td>0</td>\n",
              "      <td>...</td>\n",
              "      <td>False</td>\n",
              "      <td>False</td>\n",
              "      <td>False</td>\n",
              "      <td>False</td>\n",
              "      <td>False</td>\n",
              "      <td>False</td>\n",
              "      <td>False</td>\n",
              "      <td>True</td>\n",
              "      <td>False</td>\n",
              "      <td>False</td>\n",
              "    </tr>\n",
              "  </tbody>\n",
              "</table>\n",
              "<p>5 rows × 41 columns</p>\n",
              "</div>"
            ],
            "text/plain": [
              "    Age    Income  Credit Score  Loan Amount  Years at Current Job  \\\n",
              "0    49   72799.0         688.0      45713.0                    19   \n",
              "2    21   55687.0         600.0      36623.0                     8   \n",
              "3    59   26508.0         622.0      26541.0                     2   \n",
              "10   42  116212.0         707.0      24771.0                    11   \n",
              "16   55   70978.0         706.0      36970.0                    19   \n",
              "\n",
              "    Debt-to-Income Ratio  Assets Value  Number of Dependents  \\\n",
              "0               0.154313      120228.0                   0.0   \n",
              "2               0.362398      180700.0                   3.0   \n",
              "3               0.454964      157319.0                   3.0   \n",
              "10              0.114134      212198.0                   3.0   \n",
              "16              0.266941       54041.0                   3.0   \n",
              "\n",
              "    Previous Defaults  Marital Status Change  ...  Payment History_Good  \\\n",
              "0                 2.0                      2  ...                 False   \n",
              "2                 3.0                      2  ...                 False   \n",
              "3                 4.0                      2  ...                 False   \n",
              "10                0.0                      2  ...                 False   \n",
              "16                1.0                      0  ...                 False   \n",
              "\n",
              "    Payment History_Poor  Continent_Africa  Continent_Antarctica  \\\n",
              "0                   True             False                 False   \n",
              "2                  False             False                 False   \n",
              "3                  False              True                 False   \n",
              "10                 False             False                 False   \n",
              "16                 False             False                 False   \n",
              "\n",
              "    Continent_Asia  Continent_Europe  Continent_North America  \\\n",
              "0             True             False                    False   \n",
              "2            False              True                    False   \n",
              "3            False             False                    False   \n",
              "10           False             False                    False   \n",
              "16           False             False                    False   \n",
              "\n",
              "    Continent_Oceania  Continent_South America  Continent_Unknown  \n",
              "0               False                    False              False  \n",
              "2               False                    False              False  \n",
              "3               False                    False              False  \n",
              "10              False                     True              False  \n",
              "16               True                    False              False  \n",
              "\n",
              "[5 rows x 41 columns]"
            ]
          },
          "execution_count": 29,
          "metadata": {},
          "output_type": "execute_result"
        }
      ],
      "source": [
        "df.head()"
      ]
    },
    {
      "cell_type": "code",
      "execution_count": 30,
      "metadata": {
        "colab": {
          "base_uri": "https://localhost:8080/"
        },
        "id": "yPDDSB2INXhj",
        "outputId": "4638c30c-468b-4983-fbb0-1a24c04c26cc"
      },
      "outputs": [
        {
          "data": {
            "text/plain": [
              "(5716, 41)"
            ]
          },
          "execution_count": 30,
          "metadata": {},
          "output_type": "execute_result"
        }
      ],
      "source": [
        "df.shape"
      ]
    },
    {
      "cell_type": "code",
      "execution_count": 31,
      "metadata": {
        "id": "I7GKjTZIlQHy"
      },
      "outputs": [],
      "source": [
        "#splitting features and the target\n",
        "X = df.drop(columns=['Risk Rating'])\n",
        "y = df['Risk Rating']"
      ]
    },
    {
      "cell_type": "code",
      "execution_count": 32,
      "metadata": {
        "colab": {
          "base_uri": "https://localhost:8080/",
          "height": 496
        },
        "id": "M5yqw2Y6xE1w",
        "outputId": "5ca895b1-5385-43d1-f108-08068a26d116"
      },
      "outputs": [
        {
          "data": {
            "text/html": [
              "<div>\n",
              "<style scoped>\n",
              "    .dataframe tbody tr th:only-of-type {\n",
              "        vertical-align: middle;\n",
              "    }\n",
              "\n",
              "    .dataframe tbody tr th {\n",
              "        vertical-align: top;\n",
              "    }\n",
              "\n",
              "    .dataframe thead th {\n",
              "        text-align: right;\n",
              "    }\n",
              "</style>\n",
              "<table border=\"1\" class=\"dataframe\">\n",
              "  <thead>\n",
              "    <tr style=\"text-align: right;\">\n",
              "      <th></th>\n",
              "      <th>Age</th>\n",
              "      <th>Income</th>\n",
              "      <th>Credit Score</th>\n",
              "      <th>Loan Amount</th>\n",
              "      <th>Years at Current Job</th>\n",
              "      <th>Debt-to-Income Ratio</th>\n",
              "      <th>Assets Value</th>\n",
              "      <th>Number of Dependents</th>\n",
              "      <th>Previous Defaults</th>\n",
              "      <th>Marital Status Change</th>\n",
              "      <th>...</th>\n",
              "      <th>Payment History_Good</th>\n",
              "      <th>Payment History_Poor</th>\n",
              "      <th>Continent_Africa</th>\n",
              "      <th>Continent_Antarctica</th>\n",
              "      <th>Continent_Asia</th>\n",
              "      <th>Continent_Europe</th>\n",
              "      <th>Continent_North America</th>\n",
              "      <th>Continent_Oceania</th>\n",
              "      <th>Continent_South America</th>\n",
              "      <th>Continent_Unknown</th>\n",
              "    </tr>\n",
              "  </thead>\n",
              "  <tbody>\n",
              "    <tr>\n",
              "      <th>0</th>\n",
              "      <td>49</td>\n",
              "      <td>72799.0</td>\n",
              "      <td>688.0</td>\n",
              "      <td>45713.0</td>\n",
              "      <td>19</td>\n",
              "      <td>0.154313</td>\n",
              "      <td>120228.0</td>\n",
              "      <td>0.0</td>\n",
              "      <td>2.0</td>\n",
              "      <td>2</td>\n",
              "      <td>...</td>\n",
              "      <td>False</td>\n",
              "      <td>True</td>\n",
              "      <td>False</td>\n",
              "      <td>False</td>\n",
              "      <td>True</td>\n",
              "      <td>False</td>\n",
              "      <td>False</td>\n",
              "      <td>False</td>\n",
              "      <td>False</td>\n",
              "      <td>False</td>\n",
              "    </tr>\n",
              "    <tr>\n",
              "      <th>2</th>\n",
              "      <td>21</td>\n",
              "      <td>55687.0</td>\n",
              "      <td>600.0</td>\n",
              "      <td>36623.0</td>\n",
              "      <td>8</td>\n",
              "      <td>0.362398</td>\n",
              "      <td>180700.0</td>\n",
              "      <td>3.0</td>\n",
              "      <td>3.0</td>\n",
              "      <td>2</td>\n",
              "      <td>...</td>\n",
              "      <td>False</td>\n",
              "      <td>False</td>\n",
              "      <td>False</td>\n",
              "      <td>False</td>\n",
              "      <td>False</td>\n",
              "      <td>True</td>\n",
              "      <td>False</td>\n",
              "      <td>False</td>\n",
              "      <td>False</td>\n",
              "      <td>False</td>\n",
              "    </tr>\n",
              "    <tr>\n",
              "      <th>3</th>\n",
              "      <td>59</td>\n",
              "      <td>26508.0</td>\n",
              "      <td>622.0</td>\n",
              "      <td>26541.0</td>\n",
              "      <td>2</td>\n",
              "      <td>0.454964</td>\n",
              "      <td>157319.0</td>\n",
              "      <td>3.0</td>\n",
              "      <td>4.0</td>\n",
              "      <td>2</td>\n",
              "      <td>...</td>\n",
              "      <td>False</td>\n",
              "      <td>False</td>\n",
              "      <td>True</td>\n",
              "      <td>False</td>\n",
              "      <td>False</td>\n",
              "      <td>False</td>\n",
              "      <td>False</td>\n",
              "      <td>False</td>\n",
              "      <td>False</td>\n",
              "      <td>False</td>\n",
              "    </tr>\n",
              "    <tr>\n",
              "      <th>10</th>\n",
              "      <td>42</td>\n",
              "      <td>116212.0</td>\n",
              "      <td>707.0</td>\n",
              "      <td>24771.0</td>\n",
              "      <td>11</td>\n",
              "      <td>0.114134</td>\n",
              "      <td>212198.0</td>\n",
              "      <td>3.0</td>\n",
              "      <td>0.0</td>\n",
              "      <td>2</td>\n",
              "      <td>...</td>\n",
              "      <td>False</td>\n",
              "      <td>False</td>\n",
              "      <td>False</td>\n",
              "      <td>False</td>\n",
              "      <td>False</td>\n",
              "      <td>False</td>\n",
              "      <td>False</td>\n",
              "      <td>False</td>\n",
              "      <td>True</td>\n",
              "      <td>False</td>\n",
              "    </tr>\n",
              "    <tr>\n",
              "      <th>16</th>\n",
              "      <td>55</td>\n",
              "      <td>70978.0</td>\n",
              "      <td>706.0</td>\n",
              "      <td>36970.0</td>\n",
              "      <td>19</td>\n",
              "      <td>0.266941</td>\n",
              "      <td>54041.0</td>\n",
              "      <td>3.0</td>\n",
              "      <td>1.0</td>\n",
              "      <td>0</td>\n",
              "      <td>...</td>\n",
              "      <td>False</td>\n",
              "      <td>False</td>\n",
              "      <td>False</td>\n",
              "      <td>False</td>\n",
              "      <td>False</td>\n",
              "      <td>False</td>\n",
              "      <td>False</td>\n",
              "      <td>True</td>\n",
              "      <td>False</td>\n",
              "      <td>False</td>\n",
              "    </tr>\n",
              "    <tr>\n",
              "      <th>...</th>\n",
              "      <td>...</td>\n",
              "      <td>...</td>\n",
              "      <td>...</td>\n",
              "      <td>...</td>\n",
              "      <td>...</td>\n",
              "      <td>...</td>\n",
              "      <td>...</td>\n",
              "      <td>...</td>\n",
              "      <td>...</td>\n",
              "      <td>...</td>\n",
              "      <td>...</td>\n",
              "      <td>...</td>\n",
              "      <td>...</td>\n",
              "      <td>...</td>\n",
              "      <td>...</td>\n",
              "      <td>...</td>\n",
              "      <td>...</td>\n",
              "      <td>...</td>\n",
              "      <td>...</td>\n",
              "      <td>...</td>\n",
              "      <td>...</td>\n",
              "    </tr>\n",
              "    <tr>\n",
              "      <th>14986</th>\n",
              "      <td>49</td>\n",
              "      <td>29734.0</td>\n",
              "      <td>652.0</td>\n",
              "      <td>44356.0</td>\n",
              "      <td>13</td>\n",
              "      <td>0.567928</td>\n",
              "      <td>78123.0</td>\n",
              "      <td>3.0</td>\n",
              "      <td>2.0</td>\n",
              "      <td>0</td>\n",
              "      <td>...</td>\n",
              "      <td>False</td>\n",
              "      <td>False</td>\n",
              "      <td>False</td>\n",
              "      <td>False</td>\n",
              "      <td>False</td>\n",
              "      <td>False</td>\n",
              "      <td>True</td>\n",
              "      <td>False</td>\n",
              "      <td>False</td>\n",
              "      <td>False</td>\n",
              "    </tr>\n",
              "    <tr>\n",
              "      <th>14989</th>\n",
              "      <td>35</td>\n",
              "      <td>108652.0</td>\n",
              "      <td>682.0</td>\n",
              "      <td>21953.0</td>\n",
              "      <td>9</td>\n",
              "      <td>0.560202</td>\n",
              "      <td>208538.0</td>\n",
              "      <td>0.0</td>\n",
              "      <td>1.0</td>\n",
              "      <td>1</td>\n",
              "      <td>...</td>\n",
              "      <td>False</td>\n",
              "      <td>False</td>\n",
              "      <td>False</td>\n",
              "      <td>False</td>\n",
              "      <td>False</td>\n",
              "      <td>True</td>\n",
              "      <td>False</td>\n",
              "      <td>False</td>\n",
              "      <td>False</td>\n",
              "      <td>False</td>\n",
              "    </tr>\n",
              "    <tr>\n",
              "      <th>14991</th>\n",
              "      <td>43</td>\n",
              "      <td>110352.0</td>\n",
              "      <td>662.0</td>\n",
              "      <td>36790.0</td>\n",
              "      <td>13</td>\n",
              "      <td>0.474802</td>\n",
              "      <td>203890.0</td>\n",
              "      <td>2.0</td>\n",
              "      <td>2.0</td>\n",
              "      <td>1</td>\n",
              "      <td>...</td>\n",
              "      <td>True</td>\n",
              "      <td>False</td>\n",
              "      <td>False</td>\n",
              "      <td>False</td>\n",
              "      <td>True</td>\n",
              "      <td>False</td>\n",
              "      <td>False</td>\n",
              "      <td>False</td>\n",
              "      <td>False</td>\n",
              "      <td>False</td>\n",
              "    </tr>\n",
              "    <tr>\n",
              "      <th>14994</th>\n",
              "      <td>40</td>\n",
              "      <td>43655.0</td>\n",
              "      <td>614.0</td>\n",
              "      <td>34565.0</td>\n",
              "      <td>11</td>\n",
              "      <td>0.399901</td>\n",
              "      <td>32179.0</td>\n",
              "      <td>4.0</td>\n",
              "      <td>1.0</td>\n",
              "      <td>1</td>\n",
              "      <td>...</td>\n",
              "      <td>False</td>\n",
              "      <td>True</td>\n",
              "      <td>False</td>\n",
              "      <td>False</td>\n",
              "      <td>True</td>\n",
              "      <td>False</td>\n",
              "      <td>False</td>\n",
              "      <td>False</td>\n",
              "      <td>False</td>\n",
              "      <td>False</td>\n",
              "    </tr>\n",
              "    <tr>\n",
              "      <th>14997</th>\n",
              "      <td>29</td>\n",
              "      <td>46250.0</td>\n",
              "      <td>642.0</td>\n",
              "      <td>44369.0</td>\n",
              "      <td>19</td>\n",
              "      <td>0.593999</td>\n",
              "      <td>196930.0</td>\n",
              "      <td>4.0</td>\n",
              "      <td>2.0</td>\n",
              "      <td>1</td>\n",
              "      <td>...</td>\n",
              "      <td>False</td>\n",
              "      <td>False</td>\n",
              "      <td>False</td>\n",
              "      <td>False</td>\n",
              "      <td>False</td>\n",
              "      <td>False</td>\n",
              "      <td>False</td>\n",
              "      <td>True</td>\n",
              "      <td>False</td>\n",
              "      <td>False</td>\n",
              "    </tr>\n",
              "  </tbody>\n",
              "</table>\n",
              "<p>5716 rows × 40 columns</p>\n",
              "</div>"
            ],
            "text/plain": [
              "       Age    Income  Credit Score  Loan Amount  Years at Current Job  \\\n",
              "0       49   72799.0         688.0      45713.0                    19   \n",
              "2       21   55687.0         600.0      36623.0                     8   \n",
              "3       59   26508.0         622.0      26541.0                     2   \n",
              "10      42  116212.0         707.0      24771.0                    11   \n",
              "16      55   70978.0         706.0      36970.0                    19   \n",
              "...    ...       ...           ...          ...                   ...   \n",
              "14986   49   29734.0         652.0      44356.0                    13   \n",
              "14989   35  108652.0         682.0      21953.0                     9   \n",
              "14991   43  110352.0         662.0      36790.0                    13   \n",
              "14994   40   43655.0         614.0      34565.0                    11   \n",
              "14997   29   46250.0         642.0      44369.0                    19   \n",
              "\n",
              "       Debt-to-Income Ratio  Assets Value  Number of Dependents  \\\n",
              "0                  0.154313      120228.0                   0.0   \n",
              "2                  0.362398      180700.0                   3.0   \n",
              "3                  0.454964      157319.0                   3.0   \n",
              "10                 0.114134      212198.0                   3.0   \n",
              "16                 0.266941       54041.0                   3.0   \n",
              "...                     ...           ...                   ...   \n",
              "14986              0.567928       78123.0                   3.0   \n",
              "14989              0.560202      208538.0                   0.0   \n",
              "14991              0.474802      203890.0                   2.0   \n",
              "14994              0.399901       32179.0                   4.0   \n",
              "14997              0.593999      196930.0                   4.0   \n",
              "\n",
              "       Previous Defaults  Marital Status Change  ...  Payment History_Good  \\\n",
              "0                    2.0                      2  ...                 False   \n",
              "2                    3.0                      2  ...                 False   \n",
              "3                    4.0                      2  ...                 False   \n",
              "10                   0.0                      2  ...                 False   \n",
              "16                   1.0                      0  ...                 False   \n",
              "...                  ...                    ...  ...                   ...   \n",
              "14986                2.0                      0  ...                 False   \n",
              "14989                1.0                      1  ...                 False   \n",
              "14991                2.0                      1  ...                  True   \n",
              "14994                1.0                      1  ...                 False   \n",
              "14997                2.0                      1  ...                 False   \n",
              "\n",
              "       Payment History_Poor  Continent_Africa  Continent_Antarctica  \\\n",
              "0                      True             False                 False   \n",
              "2                     False             False                 False   \n",
              "3                     False              True                 False   \n",
              "10                    False             False                 False   \n",
              "16                    False             False                 False   \n",
              "...                     ...               ...                   ...   \n",
              "14986                 False             False                 False   \n",
              "14989                 False             False                 False   \n",
              "14991                 False             False                 False   \n",
              "14994                  True             False                 False   \n",
              "14997                 False             False                 False   \n",
              "\n",
              "       Continent_Asia  Continent_Europe  Continent_North America  \\\n",
              "0                True             False                    False   \n",
              "2               False              True                    False   \n",
              "3               False             False                    False   \n",
              "10              False             False                    False   \n",
              "16              False             False                    False   \n",
              "...               ...               ...                      ...   \n",
              "14986           False             False                     True   \n",
              "14989           False              True                    False   \n",
              "14991            True             False                    False   \n",
              "14994            True             False                    False   \n",
              "14997           False             False                    False   \n",
              "\n",
              "       Continent_Oceania  Continent_South America  Continent_Unknown  \n",
              "0                  False                    False              False  \n",
              "2                  False                    False              False  \n",
              "3                  False                    False              False  \n",
              "10                 False                     True              False  \n",
              "16                  True                    False              False  \n",
              "...                  ...                      ...                ...  \n",
              "14986              False                    False              False  \n",
              "14989              False                    False              False  \n",
              "14991              False                    False              False  \n",
              "14994              False                    False              False  \n",
              "14997               True                    False              False  \n",
              "\n",
              "[5716 rows x 40 columns]"
            ]
          },
          "execution_count": 32,
          "metadata": {},
          "output_type": "execute_result"
        }
      ],
      "source": [
        "X"
      ]
    },
    {
      "cell_type": "code",
      "execution_count": 86,
      "metadata": {},
      "outputs": [
        {
          "data": {
            "text/plain": [
              "Index(['Age', 'Income', 'Credit Score', 'Loan Amount', 'Years at Current Job',\n",
              "       'Debt-to-Income Ratio', 'Assets Value', 'Number of Dependents',\n",
              "       'Previous Defaults', 'Marital Status Change', 'Gender_Female',\n",
              "       'Gender_Male', 'Gender_Non-binary', 'Education Level_Bachelor's',\n",
              "       'Education Level_High School', 'Education Level_Master's',\n",
              "       'Education Level_PhD', 'Marital Status_Divorced',\n",
              "       'Marital Status_Married', 'Marital Status_Single',\n",
              "       'Marital Status_Widowed', 'Loan Purpose_Auto', 'Loan Purpose_Business',\n",
              "       'Loan Purpose_Home', 'Loan Purpose_Personal',\n",
              "       'Employment Status_Employed', 'Employment Status_Self-employed',\n",
              "       'Employment Status_Unemployed', 'Payment History_Excellent',\n",
              "       'Payment History_Fair', 'Payment History_Good', 'Payment History_Poor',\n",
              "       'Continent_Africa', 'Continent_Antarctica', 'Continent_Asia',\n",
              "       'Continent_Europe', 'Continent_North America', 'Continent_Oceania',\n",
              "       'Continent_South America', 'Continent_Unknown'],\n",
              "      dtype='object')"
            ]
          },
          "execution_count": 86,
          "metadata": {},
          "output_type": "execute_result"
        }
      ],
      "source": [
        "X.columns"
      ]
    },
    {
      "cell_type": "code",
      "execution_count": 33,
      "metadata": {
        "colab": {
          "base_uri": "https://localhost:8080/",
          "height": 458
        },
        "id": "0ukawjKlxGtW",
        "outputId": "ed74d041-4c5a-4b88-eb44-70543d1b75cd"
      },
      "outputs": [
        {
          "data": {
            "text/plain": [
              "0        1\n",
              "2        2\n",
              "3        2\n",
              "10       2\n",
              "16       2\n",
              "        ..\n",
              "14986    1\n",
              "14989    1\n",
              "14991    1\n",
              "14994    1\n",
              "14997    3\n",
              "Name: Risk Rating, Length: 5716, dtype: int64"
            ]
          },
          "execution_count": 33,
          "metadata": {},
          "output_type": "execute_result"
        }
      ],
      "source": [
        "y"
      ]
    },
    {
      "cell_type": "code",
      "execution_count": 34,
      "metadata": {
        "colab": {
          "base_uri": "https://localhost:8080/"
        },
        "id": "bfnLo5SdghaB",
        "outputId": "73fc3afe-cd0a-40cf-a4f4-e53b41ceffad"
      },
      "outputs": [
        {
          "name": "stdout",
          "output_type": "stream",
          "text": [
            "[[0.60784314 0.52804009 0.44221106 ... 0.         0.         0.        ]\n",
            " [0.05882353 0.35685847 0.         ... 0.         0.         0.        ]\n",
            " [0.80392157 0.06496339 0.11055276 ... 0.         0.         0.        ]\n",
            " ...\n",
            " [0.49019608 0.90370533 0.31155779 ... 0.         0.         0.        ]\n",
            " [0.43137255 0.23649514 0.07035176 ... 0.         0.         0.        ]\n",
            " [0.21568627 0.26245448 0.21105528 ... 1.         0.         0.        ]]\n"
          ]
        }
      ],
      "source": [
        "#normalization\n",
        "scaler = MinMaxScaler()\n",
        "\n",
        "scaled_data = scaler.fit_transform(X)\n",
        "print(scaled_data)"
      ]
    },
    {
      "cell_type": "code",
      "execution_count": 35,
      "metadata": {
        "id": "Iq7aFkWOMZy8"
      },
      "outputs": [],
      "source": [
        "#resampling\n",
        "\n",
        "smote = SMOTE()\n",
        "X_resampled, y_resampled = smote.fit_resample(scaled_data, y)"
      ]
    },
    {
      "cell_type": "code",
      "execution_count": 36,
      "metadata": {
        "colab": {
          "base_uri": "https://localhost:8080/"
        },
        "id": "ctHiXtt5lOJF",
        "outputId": "874a2904-c5a4-439a-dabd-c9fa4293bbb5"
      },
      "outputs": [
        {
          "data": {
            "text/plain": [
              "(10272,)"
            ]
          },
          "execution_count": 36,
          "metadata": {},
          "output_type": "execute_result"
        }
      ],
      "source": [
        "y_resampled.shape"
      ]
    },
    {
      "cell_type": "code",
      "execution_count": 37,
      "metadata": {
        "colab": {
          "base_uri": "https://localhost:8080/"
        },
        "id": "2JxcS4MVwB_h",
        "outputId": "ed4effc3-70f0-40a6-f7d1-c61d3aa46b17"
      },
      "outputs": [
        {
          "data": {
            "text/plain": [
              "(10272, 40)"
            ]
          },
          "execution_count": 37,
          "metadata": {},
          "output_type": "execute_result"
        }
      ],
      "source": [
        "X_resampled.shape"
      ]
    },
    {
      "cell_type": "code",
      "execution_count": 38,
      "metadata": {
        "id": "E91GMFn_5gpx"
      },
      "outputs": [],
      "source": [
        "#train test split\n",
        "\n",
        "train_data,test_data,train_target,test_target = train_test_split(X_resampled,y_resampled,test_size = 0.2,random_state=100)"
      ]
    },
    {
      "cell_type": "markdown",
      "metadata": {
        "id": "MOjdPUGLZw2u"
      },
      "source": [
        "# Model Training"
      ]
    },
    {
      "cell_type": "markdown",
      "metadata": {
        "id": "It72WMdbZ208"
      },
      "source": [
        "### Random Forest"
      ]
    },
    {
      "cell_type": "code",
      "execution_count": 39,
      "metadata": {
        "colab": {
          "base_uri": "https://localhost:8080/",
          "height": 80
        },
        "id": "KscEGFPJ0e_y",
        "outputId": "2a2ded31-f67d-4864-c8c5-cfb6959c3fa9"
      },
      "outputs": [],
      "source": [
        "rf = RandomForestClassifier(class_weight='balanced')"
      ]
    },
    {
      "cell_type": "code",
      "execution_count": 40,
      "metadata": {
        "id": "dbKRUpFia336"
      },
      "outputs": [],
      "source": [
        "param_dist = {\n",
        "    'n_estimators': [50, 100, 200],  # Number of trees in the forest\n",
        "    'max_depth': [None, 10, 20, 30],  # Maximum depth of the tree\n",
        "    'min_samples_split': [2, 5, 10],  # Minimum number of samples required to split an internal node\n",
        "    'min_samples_leaf': [1, 2, 4],  # Minimum number of samples required to be at a leaf node\n",
        "    'max_features': ['auto', 'sqrt', 'log2'],  # Number of features to consider for best split\n",
        "    'bootstrap': [True, False],  # Whether bootstrap samples are used when building trees\n",
        "}"
      ]
    },
    {
      "cell_type": "code",
      "execution_count": 41,
      "metadata": {
        "id": "fqrZte99a64z"
      },
      "outputs": [],
      "source": [
        "random_search = RandomizedSearchCV(\n",
        "    estimator=rf,\n",
        "    param_distributions=param_dist,\n",
        "    n_iter=50,  # Number of combinations to try\n",
        "    scoring='f1_weighted',  # Optimize for weighted F1 score\n",
        "    cv=5,  # 5-fold cross-validation\n",
        "    verbose=1,\n",
        "    n_jobs=-1,  # Use all available cores\n",
        "    random_state=42\n",
        ")"
      ]
    },
    {
      "cell_type": "code",
      "execution_count": 42,
      "metadata": {
        "id": "r9jqUmR7bBeg"
      },
      "outputs": [
        {
          "name": "stdout",
          "output_type": "stream",
          "text": [
            "Fitting 5 folds for each of 50 candidates, totalling 250 fits\n"
          ]
        },
        {
          "name": "stderr",
          "output_type": "stream",
          "text": [
            "c:\\Users\\HP\\anaconda3\\envs\\ML\\Lib\\site-packages\\sklearn\\model_selection\\_validation.py:540: FitFailedWarning: \n",
            "80 fits failed out of a total of 250.\n",
            "The score on these train-test partitions for these parameters will be set to nan.\n",
            "If these failures are not expected, you can try to debug them by setting error_score='raise'.\n",
            "\n",
            "Below are more details about the failures:\n",
            "--------------------------------------------------------------------------------\n",
            "51 fits failed with the following error:\n",
            "Traceback (most recent call last):\n",
            "  File \"c:\\Users\\HP\\anaconda3\\envs\\ML\\Lib\\site-packages\\sklearn\\model_selection\\_validation.py\", line 888, in _fit_and_score\n",
            "    estimator.fit(X_train, y_train, **fit_params)\n",
            "  File \"c:\\Users\\HP\\anaconda3\\envs\\ML\\Lib\\site-packages\\sklearn\\base.py\", line 1466, in wrapper\n",
            "    estimator._validate_params()\n",
            "  File \"c:\\Users\\HP\\anaconda3\\envs\\ML\\Lib\\site-packages\\sklearn\\base.py\", line 666, in _validate_params\n",
            "    validate_parameter_constraints(\n",
            "  File \"c:\\Users\\HP\\anaconda3\\envs\\ML\\Lib\\site-packages\\sklearn\\utils\\_param_validation.py\", line 95, in validate_parameter_constraints\n",
            "    raise InvalidParameterError(\n",
            "sklearn.utils._param_validation.InvalidParameterError: The 'max_features' parameter of RandomForestClassifier must be an int in the range [1, inf), a float in the range (0.0, 1.0], a str among {'sqrt', 'log2'} or None. Got 'auto' instead.\n",
            "\n",
            "--------------------------------------------------------------------------------\n",
            "29 fits failed with the following error:\n",
            "Traceback (most recent call last):\n",
            "  File \"c:\\Users\\HP\\anaconda3\\envs\\ML\\Lib\\site-packages\\sklearn\\model_selection\\_validation.py\", line 888, in _fit_and_score\n",
            "    estimator.fit(X_train, y_train, **fit_params)\n",
            "  File \"c:\\Users\\HP\\anaconda3\\envs\\ML\\Lib\\site-packages\\sklearn\\base.py\", line 1466, in wrapper\n",
            "    estimator._validate_params()\n",
            "  File \"c:\\Users\\HP\\anaconda3\\envs\\ML\\Lib\\site-packages\\sklearn\\base.py\", line 666, in _validate_params\n",
            "    validate_parameter_constraints(\n",
            "  File \"c:\\Users\\HP\\anaconda3\\envs\\ML\\Lib\\site-packages\\sklearn\\utils\\_param_validation.py\", line 95, in validate_parameter_constraints\n",
            "    raise InvalidParameterError(\n",
            "sklearn.utils._param_validation.InvalidParameterError: The 'max_features' parameter of RandomForestClassifier must be an int in the range [1, inf), a float in the range (0.0, 1.0], a str among {'log2', 'sqrt'} or None. Got 'auto' instead.\n",
            "\n",
            "  warnings.warn(some_fits_failed_message, FitFailedWarning)\n",
            "c:\\Users\\HP\\anaconda3\\envs\\ML\\Lib\\site-packages\\numpy\\ma\\core.py:2846: RuntimeWarning: invalid value encountered in cast\n",
            "  _data = np.array(data, dtype=dtype, copy=copy,\n",
            "c:\\Users\\HP\\anaconda3\\envs\\ML\\Lib\\site-packages\\sklearn\\model_selection\\_search.py:1102: UserWarning: One or more of the test scores are non-finite: [0.76712828 0.73680285        nan        nan 0.70271105 0.62666177\n",
            "        nan 0.62009291 0.70651937 0.72257714 0.76392814 0.74800068\n",
            "        nan        nan 0.63855492        nan 0.76541835 0.76384283\n",
            " 0.70109484        nan        nan 0.73130138        nan 0.75141268\n",
            " 0.72971717        nan        nan 0.76135792        nan 0.74260796\n",
            " 0.77852817 0.76696322        nan 0.63315309 0.74390085 0.71042139\n",
            " 0.63886434 0.72718603 0.69246888 0.62940544        nan 0.75456697\n",
            " 0.73879917 0.71590355        nan        nan 0.73814493 0.7534947\n",
            " 0.70966019 0.64117501]\n",
            "  warnings.warn(\n"
          ]
        },
        {
          "name": "stdout",
          "output_type": "stream",
          "text": [
            "Best parameters found:  {'n_estimators': 100, 'min_samples_split': 2, 'min_samples_leaf': 1, 'max_features': 'log2', 'max_depth': 30, 'bootstrap': False}\n"
          ]
        }
      ],
      "source": [
        "random_search.fit(train_data, train_target)\n",
        "print(\"Best parameters found: \", random_search.best_params_)"
      ]
    },
    {
      "cell_type": "code",
      "execution_count": 43,
      "metadata": {
        "id": "YdvB4flSbIZs"
      },
      "outputs": [],
      "source": [
        "best_rf_model = random_search.best_estimator_"
      ]
    },
    {
      "cell_type": "code",
      "execution_count": 44,
      "metadata": {
        "id": "E8ZiTtAzHg6v"
      },
      "outputs": [],
      "source": [
        "predicted_target = best_rf_model.predict(test_data)"
      ]
    },
    {
      "cell_type": "code",
      "execution_count": 45,
      "metadata": {
        "colab": {
          "base_uri": "https://localhost:8080/"
        },
        "id": "nsZGSQflONFY",
        "outputId": "b3a6d8fe-98bc-483a-a528-d2eb8306cfa0"
      },
      "outputs": [
        {
          "name": "stdout",
          "output_type": "stream",
          "text": [
            "Accuracy  : 0.7927007299270074\n"
          ]
        }
      ],
      "source": [
        "acc2 = accuracy_score(test_target,predicted_target)\n",
        "print(\"Accuracy  :\",acc2)"
      ]
    },
    {
      "cell_type": "code",
      "execution_count": 46,
      "metadata": {
        "colab": {
          "base_uri": "https://localhost:8080/"
        },
        "id": "hE5PKJGaQovh",
        "outputId": "3b444852-a0b8-4442-9bcb-8e0b1a289242"
      },
      "outputs": [
        {
          "name": "stdout",
          "output_type": "stream",
          "text": [
            "              precision    recall  f1-score   support\n",
            "\n",
            "           1       0.67      0.88      0.76       689\n",
            "           2       0.83      0.61      0.70       680\n",
            "           3       0.94      0.89      0.92       686\n",
            "\n",
            "    accuracy                           0.79      2055\n",
            "   macro avg       0.81      0.79      0.79      2055\n",
            "weighted avg       0.81      0.79      0.79      2055\n",
            "\n"
          ]
        }
      ],
      "source": [
        "report2 = classification_report(test_target,predicted_target)\n",
        "print(report2)"
      ]
    },
    {
      "cell_type": "code",
      "execution_count": 47,
      "metadata": {
        "colab": {
          "base_uri": "https://localhost:8080/",
          "height": 449
        },
        "id": "wBLkeVG-OTKj",
        "outputId": "3dea0436-2218-4970-d5ee-4bf749e4b77b"
      },
      "outputs": [
        {
          "data": {
            "image/png": "[encoded data removed]",
            "text/plain": [
              "<Figure size 640x480 with 2 Axes>"
            ]
          },
          "metadata": {},
          "output_type": "display_data"
        }
      ],
      "source": [
        "cm2 = confusion_matrix(test_target, predicted_target, labels=best_rf_model.classes_)\n",
        "\n",
        "disp = ConfusionMatrixDisplay(confusion_matrix=cm2, display_labels=best_rf_model.classes_)\n",
        "\n",
        "disp.plot()\n",
        "plt.show()"
      ]
    },
    {
      "cell_type": "code",
      "execution_count": 48,
      "metadata": {
        "colab": {
          "base_uri": "https://localhost:8080/"
        },
        "id": "uSt2kHllOWo1",
        "outputId": "bf07d7a5-fd62-4f57-8ab9-2ec46edbfdb3"
      },
      "outputs": [
        {
          "name": "stdout",
          "output_type": "stream",
          "text": [
            "Cross Validation Accuracy:  0.7942236026316226\n"
          ]
        }
      ],
      "source": [
        "cross_val_acc2 = cross_val_score(best_rf_model, X_resampled, y_resampled, cv=5)\n",
        "print(\"Cross Validation Accuracy: \", cross_val_acc2.mean())"
      ]
    },
    {
      "cell_type": "markdown",
      "metadata": {
        "id": "tbdhB4Dj3rR-"
      },
      "source": [
        "### SVM"
      ]
    },
    {
      "cell_type": "code",
      "execution_count": 49,
      "metadata": {
        "colab": {
          "base_uri": "https://localhost:8080/",
          "height": 80
        },
        "id": "38PCoBlg3y7H",
        "outputId": "ca3bd21a-49e3-433a-bffb-0ed7d25c41aa"
      },
      "outputs": [],
      "source": [
        "svm_model = SVC(class_weight='balanced')"
      ]
    },
    {
      "cell_type": "code",
      "execution_count": 50,
      "metadata": {
        "id": "DLtSiOm5Zc38"
      },
      "outputs": [],
      "source": [
        "param_dist = {\n",
        "    'C': [0.1, 1, 10, 100],  # Regularization parameter\n",
        "    'kernel': ['linear', 'rbf', 'poly'],  # Kernel type\n",
        "    'gamma': ['scale', 'auto'],  # Kernel coefficient for 'rbf', 'poly'\n",
        "    'degree': [2, 3, 4],  # Degree of the polynomial kernel (used if kernel='poly')\n",
        "}"
      ]
    },
    {
      "cell_type": "code",
      "execution_count": 51,
      "metadata": {
        "id": "AH4_CFg1Zfhv"
      },
      "outputs": [],
      "source": [
        "random_search = RandomizedSearchCV(\n",
        "    estimator=svm_model,\n",
        "    param_distributions=param_dist,\n",
        "    n_iter=50,  # Number of combinations to try\n",
        "    scoring='f1_weighted',  # Optimize for weighted F1 score\n",
        "    cv=5,  # 5-fold cross-validation\n",
        "    verbose=1,\n",
        "    n_jobs=-1,  # Use all available cores\n",
        "    random_state=42\n",
        ")"
      ]
    },
    {
      "cell_type": "code",
      "execution_count": 52,
      "metadata": {
        "id": "qTfwuFkPZnnm"
      },
      "outputs": [
        {
          "name": "stdout",
          "output_type": "stream",
          "text": [
            "Fitting 5 folds for each of 50 candidates, totalling 250 fits\n"
          ]
        },
        {
          "name": "stderr",
          "output_type": "stream",
          "text": [
            "c:\\Users\\HP\\anaconda3\\envs\\ML\\Lib\\site-packages\\numpy\\ma\\core.py:2846: RuntimeWarning: invalid value encountered in cast\n",
            "  _data = np.array(data, dtype=dtype, copy=copy,\n"
          ]
        },
        {
          "name": "stdout",
          "output_type": "stream",
          "text": [
            "Best parameters found:  {'kernel': 'rbf', 'gamma': 'scale', 'degree': 2, 'C': 100}\n"
          ]
        }
      ],
      "source": [
        "random_search.fit(train_data, train_target)\n",
        "print(\"Best parameters found: \", random_search.best_params_)"
      ]
    },
    {
      "cell_type": "code",
      "execution_count": 53,
      "metadata": {
        "id": "YJMXdVWuZrgS"
      },
      "outputs": [],
      "source": [
        "best_svm_model = random_search.best_estimator_"
      ]
    },
    {
      "cell_type": "code",
      "execution_count": 54,
      "metadata": {
        "id": "Xc-XSPmJ4MrQ"
      },
      "outputs": [],
      "source": [
        "predicted_target = best_svm_model.predict(test_data)"
      ]
    },
    {
      "cell_type": "code",
      "execution_count": 55,
      "metadata": {
        "colab": {
          "base_uri": "https://localhost:8080/"
        },
        "id": "fSlI1FzQ4WnL",
        "outputId": "88228258-a5ca-48c5-e2f9-73fdf5858e00"
      },
      "outputs": [
        {
          "name": "stdout",
          "output_type": "stream",
          "text": [
            "Accuracy  : 0.7902676399026763\n"
          ]
        }
      ],
      "source": [
        "acc4 = accuracy_score(test_target,predicted_target)\n",
        "print(\"Accuracy  :\",acc4)"
      ]
    },
    {
      "cell_type": "code",
      "execution_count": 56,
      "metadata": {
        "colab": {
          "base_uri": "https://localhost:8080/"
        },
        "id": "tlbzsiKg4f-C",
        "outputId": "6965501b-393b-4b80-e743-c5fd41acab57"
      },
      "outputs": [
        {
          "name": "stdout",
          "output_type": "stream",
          "text": [
            "              precision    recall  f1-score   support\n",
            "\n",
            "           1       0.72      0.65      0.69       689\n",
            "           2       0.73      0.74      0.73       680\n",
            "           3       0.90      0.98      0.94       686\n",
            "\n",
            "    accuracy                           0.79      2055\n",
            "   macro avg       0.79      0.79      0.79      2055\n",
            "weighted avg       0.79      0.79      0.79      2055\n",
            "\n"
          ]
        }
      ],
      "source": [
        "report4 = classification_report(test_target,predicted_target)\n",
        "print(report4)"
      ]
    },
    {
      "cell_type": "code",
      "execution_count": 57,
      "metadata": {
        "colab": {
          "base_uri": "https://localhost:8080/",
          "height": 449
        },
        "id": "z4IemzuC5Zub",
        "outputId": "832b925b-1abb-4937-bb7f-24e06186cbac"
      },
      "outputs": [
        {
          "data": {
            "image/png": "[encoded data removed]",
            "text/plain": [
              "<Figure size 640x480 with 2 Axes>"
            ]
          },
          "metadata": {},
          "output_type": "display_data"
        }
      ],
      "source": [
        "cm4 = confusion_matrix(test_target, predicted_target, labels=best_svm_model.classes_)\n",
        "\n",
        "disp = ConfusionMatrixDisplay(confusion_matrix=cm4, display_labels=best_svm_model.classes_)\n",
        "\n",
        "disp.plot()\n",
        "plt.show()"
      ]
    },
    {
      "cell_type": "code",
      "execution_count": 58,
      "metadata": {
        "colab": {
          "base_uri": "https://localhost:8080/"
        },
        "id": "sjraAxuE5uHu",
        "outputId": "7e6a3098-b906-463e-b25f-15c95f7fc19b"
      },
      "outputs": [
        {
          "name": "stdout",
          "output_type": "stream",
          "text": [
            "Cross Validation Accuracy:  0.7930457217179937\n"
          ]
        }
      ],
      "source": [
        "cross_val_acc4 = cross_val_score(best_svm_model, X_resampled, y_resampled, cv=5)\n",
        "print(\"Cross Validation Accuracy: \", cross_val_acc4.mean())"
      ]
    },
    {
      "cell_type": "markdown",
      "metadata": {
        "id": "PvSdy3II7l8S"
      },
      "source": [
        "### MLP"
      ]
    },
    {
      "cell_type": "code",
      "execution_count": 59,
      "metadata": {
        "id": "9jXsawEy7t_7"
      },
      "outputs": [],
      "source": [
        "mlp_model = MLPClassifier(max_iter=300)"
      ]
    },
    {
      "cell_type": "code",
      "execution_count": 60,
      "metadata": {
        "id": "v-Hedss9VC_D"
      },
      "outputs": [],
      "source": [
        "param_dist = {\n",
        "    'hidden_layer_sizes': [(50,), (100,), (50, 50), (100, 100), (50, 100, 50)],  # Different architectures\n",
        "    'activation': ['tanh', 'relu'],  # Activation functions\n",
        "    'solver': ['adam', 'sgd'],  # Solver algorithms\n",
        "    'alpha': [0.0001, 0.001, 0.01],  # L2 regularization\n",
        "    'learning_rate': ['constant', 'adaptive'],  # Learning rate strategies\n",
        "    'learning_rate_init': [0.001, 0.01, 0.1],  # Initial learning rate\n",
        "}"
      ]
    },
    {
      "cell_type": "code",
      "execution_count": 61,
      "metadata": {
        "id": "B-4xkq9hVGg6"
      },
      "outputs": [],
      "source": [
        "random_search = RandomizedSearchCV(\n",
        "    estimator=mlp_model,\n",
        "    param_distributions=param_dist,\n",
        "    n_iter=50,  # Number of combinations to try\n",
        "    scoring='f1_weighted',  # Optimize for weighted F1 score\n",
        "    cv=5,  # 5-fold cross-validation\n",
        "    verbose=1,\n",
        "    n_jobs=-1,  # Use all available cores\n",
        "    random_state=42\n",
        ")"
      ]
    },
    {
      "cell_type": "code",
      "execution_count": 62,
      "metadata": {
        "colab": {
          "base_uri": "https://localhost:8080/",
          "height": 322
        },
        "id": "x-zGXxefVLgl",
        "outputId": "6f16b7d9-7c64-4174-d457-d5cefe4af4eb"
      },
      "outputs": [
        {
          "name": "stdout",
          "output_type": "stream",
          "text": [
            "Fitting 5 folds for each of 50 candidates, totalling 250 fits\n",
            "Best parameters found:  {'solver': 'sgd', 'learning_rate_init': 0.1, 'learning_rate': 'adaptive', 'hidden_layer_sizes': (100, 100), 'alpha': 0.01, 'activation': 'relu'}\n"
          ]
        }
      ],
      "source": [
        "random_search.fit(train_data, train_target)\n",
        "print(\"Best parameters found: \", random_search.best_params_)"
      ]
    },
    {
      "cell_type": "code",
      "execution_count": 63,
      "metadata": {
        "id": "pjBtnBirVQVL"
      },
      "outputs": [],
      "source": [
        "best_mlp_model = random_search.best_estimator_"
      ]
    },
    {
      "cell_type": "code",
      "execution_count": 64,
      "metadata": {
        "id": "k7iZpSfFBN7Z"
      },
      "outputs": [],
      "source": [
        "predicted_target = best_mlp_model.predict(test_data)"
      ]
    },
    {
      "cell_type": "code",
      "execution_count": 65,
      "metadata": {
        "colab": {
          "base_uri": "https://localhost:8080/"
        },
        "id": "IeIjM8v9CNp8",
        "outputId": "5b3ef179-8b3b-45b1-bc74-6836b206893f"
      },
      "outputs": [
        {
          "name": "stdout",
          "output_type": "stream",
          "text": [
            "Accuracy  : 0.7737226277372263\n"
          ]
        }
      ],
      "source": [
        "acc5 = accuracy_score(test_target,predicted_target)\n",
        "print(\"Accuracy  :\",acc5)"
      ]
    },
    {
      "cell_type": "code",
      "execution_count": 66,
      "metadata": {
        "colab": {
          "base_uri": "https://localhost:8080/"
        },
        "id": "16YHabW0CXPQ",
        "outputId": "476fd219-d189-47c8-87e7-2d6e034f605d"
      },
      "outputs": [
        {
          "name": "stdout",
          "output_type": "stream",
          "text": [
            "              precision    recall  f1-score   support\n",
            "\n",
            "           1       0.72      0.63      0.67       689\n",
            "           2       0.73      0.73      0.73       680\n",
            "           3       0.86      0.96      0.91       686\n",
            "\n",
            "    accuracy                           0.77      2055\n",
            "   macro avg       0.77      0.77      0.77      2055\n",
            "weighted avg       0.77      0.77      0.77      2055\n",
            "\n"
          ]
        }
      ],
      "source": [
        "report5 = classification_report(test_target,predicted_target)\n",
        "print(report5)"
      ]
    },
    {
      "cell_type": "code",
      "execution_count": 67,
      "metadata": {
        "colab": {
          "base_uri": "https://localhost:8080/",
          "height": 449
        },
        "id": "vnxnlzJuCkxL",
        "outputId": "7334ce79-1a9d-4c9a-a7af-d2436ddfea5e"
      },
      "outputs": [
        {
          "data": {
            "image/png": "[encoded data removed]",
            "text/plain": [
              "<Figure size 640x480 with 2 Axes>"
            ]
          },
          "metadata": {},
          "output_type": "display_data"
        }
      ],
      "source": [
        "cm5 = confusion_matrix(test_target, predicted_target, labels=best_mlp_model.classes_)\n",
        "\n",
        "disp = ConfusionMatrixDisplay(confusion_matrix=cm5, display_labels=best_mlp_model.classes_)\n",
        "\n",
        "disp.plot()\n",
        "plt.show()"
      ]
    },
    {
      "cell_type": "code",
      "execution_count": 68,
      "metadata": {
        "colab": {
          "base_uri": "https://localhost:8080/"
        },
        "id": "ue-AWb9IEtUh",
        "outputId": "9ccfe02d-d5a1-49b2-de19-d631ad1c97a0"
      },
      "outputs": [
        {
          "name": "stdout",
          "output_type": "stream",
          "text": [
            "Cross Validation Accuracy:  0.7809708668860476\n"
          ]
        }
      ],
      "source": [
        "cross_val_acc5 = cross_val_score(best_mlp_model, X_resampled, y_resampled, cv=5)\n",
        "print(\"Cross Validation Accuracy: \", cross_val_acc5.mean())"
      ]
    },
    {
      "cell_type": "markdown",
      "metadata": {
        "id": "1U4dN2mE16GV"
      },
      "source": [
        "### KNN"
      ]
    },
    {
      "cell_type": "code",
      "execution_count": 69,
      "metadata": {
        "id": "BO-W16V3RXtF"
      },
      "outputs": [],
      "source": [
        "knn = KNeighborsClassifier()"
      ]
    },
    {
      "cell_type": "code",
      "execution_count": 70,
      "metadata": {
        "id": "dO65iBEw2CTk"
      },
      "outputs": [],
      "source": [
        "param_dist = {\n",
        "    'n_neighbors': np.arange(3, 21),\n",
        "    'weights': ['uniform', 'distance'],\n",
        "    'metric': ['euclidean', 'manhattan', 'minkowski'],\n",
        "}"
      ]
    },
    {
      "cell_type": "code",
      "execution_count": 71,
      "metadata": {
        "id": "jC9SZ2aQ2EfT"
      },
      "outputs": [],
      "source": [
        "random_search = RandomizedSearchCV(\n",
        "    estimator=knn,\n",
        "    param_distributions=param_dist,\n",
        "    n_iter=50,\n",
        "    scoring='f1_macro', # accuracy, f1_weighted\n",
        "    cv=5,\n",
        "    verbose=1,\n",
        "    n_jobs=-1,\n",
        "    random_state=42\n",
        ")"
      ]
    },
    {
      "cell_type": "code",
      "execution_count": 72,
      "metadata": {
        "colab": {
          "base_uri": "https://localhost:8080/",
          "height": 152
        },
        "id": "AjgVLLe62G-k",
        "outputId": "17df632c-3822-4f97-a833-0f33a0cc906c"
      },
      "outputs": [
        {
          "name": "stdout",
          "output_type": "stream",
          "text": [
            "Fitting 5 folds for each of 50 candidates, totalling 250 fits\n"
          ]
        },
        {
          "data": {
            "text/html": [
              "<style>#sk-container-id-1 {\n",
              "  /* Definition of color scheme common for light and dark mode */\n",
              "  --sklearn-color-text: black;\n",
              "  --sklearn-color-line: gray;\n",
              "  /* Definition of color scheme for unfitted estimators */\n",
              "  --sklearn-color-unfitted-level-0: #fff5e6;\n",
              "  --sklearn-color-unfitted-level-1: #f6e4d2;\n",
              "  --sklearn-color-unfitted-level-2: #ffe0b3;\n",
              "  --sklearn-color-unfitted-level-3: chocolate;\n",
              "  /* Definition of color scheme for fitted estimators */\n",
              "  --sklearn-color-fitted-level-0: #f0f8ff;\n",
              "  --sklearn-color-fitted-level-1: #d4ebff;\n",
              "  --sklearn-color-fitted-level-2: #b3dbfd;\n",
              "  --sklearn-color-fitted-level-3: cornflowerblue;\n",
              "\n",
              "  /* Specific color for light theme */\n",
              "  --sklearn-color-text-on-default-background: var(--sg-text-color, var(--theme-code-foreground, var(--jp-content-font-color1, black)));\n",
              "  --sklearn-color-background: var(--sg-background-color, var(--theme-background, var(--jp-layout-color0, white)));\n",
              "  --sklearn-color-border-box: var(--sg-text-color, var(--theme-code-foreground, var(--jp-content-font-color1, black)));\n",
              "  --sklearn-color-icon: #696969;\n",
              "\n",
              "  @media (prefers-color-scheme: dark) {\n",
              "    /* Redefinition of color scheme for dark theme */\n",
              "    --sklearn-color-text-on-default-background: var(--sg-text-color, var(--theme-code-foreground, var(--jp-content-font-color1, white)));\n",
              "    --sklearn-color-background: var(--sg-background-color, var(--theme-background, var(--jp-layout-color0, #111)));\n",
              "    --sklearn-color-border-box: var(--sg-text-color, var(--theme-code-foreground, var(--jp-content-font-color1, white)));\n",
              "    --sklearn-color-icon: #878787;\n",
              "  }\n",
              "}\n",
              "\n",
              "#sk-container-id-1 {\n",
              "  color: var(--sklearn-color-text);\n",
              "}\n",
              "\n",
              "#sk-container-id-1 pre {\n",
              "  padding: 0;\n",
              "}\n",
              "\n",
              "#sk-container-id-1 input.sk-hidden--visually {\n",
              "  border: 0;\n",
              "  clip: rect(1px 1px 1px 1px);\n",
              "  clip: rect(1px, 1px, 1px, 1px);\n",
              "  height: 1px;\n",
              "  margin: -1px;\n",
              "  overflow: hidden;\n",
              "  padding: 0;\n",
              "  position: absolute;\n",
              "  width: 1px;\n",
              "}\n",
              "\n",
              "#sk-container-id-1 div.sk-dashed-wrapped {\n",
              "  border: 1px dashed var(--sklearn-color-line);\n",
              "  margin: 0 0.4em 0.5em 0.4em;\n",
              "  box-sizing: border-box;\n",
              "  padding-bottom: 0.4em;\n",
              "  background-color: var(--sklearn-color-background);\n",
              "}\n",
              "\n",
              "#sk-container-id-1 div.sk-container {\n",
              "  /* jupyter's `normalize.less` sets `[hidden] { display: none; }`\n",
              "     but bootstrap.min.css set `[hidden] { display: none !important; }`\n",
              "     so we also need the `!important` here to be able to override the\n",
              "     default hidden behavior on the sphinx rendered scikit-learn.org.\n",
              "     See: https://github.com/scikit-learn/scikit-learn/issues/21755 */\n",
              "  display: inline-block !important;\n",
              "  position: relative;\n",
              "}\n",
              "\n",
              "#sk-container-id-1 div.sk-text-repr-fallback {\n",
              "  display: none;\n",
              "}\n",
              "\n",
              "div.sk-parallel-item,\n",
              "div.sk-serial,\n",
              "div.sk-item {\n",
              "  /* draw centered vertical line to link estimators */\n",
              "  background-image: linear-gradient(var(--sklearn-color-text-on-default-background), var(--sklearn-color-text-on-default-background));\n",
              "  background-size: 2px 100%;\n",
              "  background-repeat: no-repeat;\n",
              "  background-position: center center;\n",
              "}\n",
              "\n",
              "/* Parallel-specific style estimator block */\n",
              "\n",
              "#sk-container-id-1 div.sk-parallel-item::after {\n",
              "  content: \"\";\n",
              "  width: 100%;\n",
              "  border-bottom: 2px solid var(--sklearn-color-text-on-default-background);\n",
              "  flex-grow: 1;\n",
              "}\n",
              "\n",
              "#sk-container-id-1 div.sk-parallel {\n",
              "  display: flex;\n",
              "  align-items: stretch;\n",
              "  justify-content: center;\n",
              "  background-color: var(--sklearn-color-background);\n",
              "  position: relative;\n",
              "}\n",
              "\n",
              "#sk-container-id-1 div.sk-parallel-item {\n",
              "  display: flex;\n",
              "  flex-direction: column;\n",
              "}\n",
              "\n",
              "#sk-container-id-1 div.sk-parallel-item:first-child::after {\n",
              "  align-self: flex-end;\n",
              "  width: 50%;\n",
              "}\n",
              "\n",
              "#sk-container-id-1 div.sk-parallel-item:last-child::after {\n",
              "  align-self: flex-start;\n",
              "  width: 50%;\n",
              "}\n",
              "\n",
              "#sk-container-id-1 div.sk-parallel-item:only-child::after {\n",
              "  width: 0;\n",
              "}\n",
              "\n",
              "/* Serial-specific style estimator block */\n",
              "\n",
              "#sk-container-id-1 div.sk-serial {\n",
              "  display: flex;\n",
              "  flex-direction: column;\n",
              "  align-items: center;\n",
              "  background-color: var(--sklearn-color-background);\n",
              "  padding-right: 1em;\n",
              "  padding-left: 1em;\n",
              "}\n",
              "\n",
              "\n",
              "/* Toggleable style: style used for estimator/Pipeline/ColumnTransformer box that is\n",
              "clickable and can be expanded/collapsed.\n",
              "- Pipeline and ColumnTransformer use this feature and define the default style\n",
              "- Estimators will overwrite some part of the style using the `sk-estimator` class\n",
              "*/\n",
              "\n",
              "/* Pipeline and ColumnTransformer style (default) */\n",
              "\n",
              "#sk-container-id-1 div.sk-toggleable {\n",
              "  /* Default theme specific background. It is overwritten whether we have a\n",
              "  specific estimator or a Pipeline/ColumnTransformer */\n",
              "  background-color: var(--sklearn-color-background);\n",
              "}\n",
              "\n",
              "/* Toggleable label */\n",
              "#sk-container-id-1 label.sk-toggleable__label {\n",
              "  cursor: pointer;\n",
              "  display: block;\n",
              "  width: 100%;\n",
              "  margin-bottom: 0;\n",
              "  padding: 0.5em;\n",
              "  box-sizing: border-box;\n",
              "  text-align: center;\n",
              "}\n",
              "\n",
              "#sk-container-id-1 label.sk-toggleable__label-arrow:before {\n",
              "  /* Arrow on the left of the label */\n",
              "  content: \"▸\";\n",
              "  float: left;\n",
              "  margin-right: 0.25em;\n",
              "  color: var(--sklearn-color-icon);\n",
              "}\n",
              "\n",
              "#sk-container-id-1 label.sk-toggleable__label-arrow:hover:before {\n",
              "  color: var(--sklearn-color-text);\n",
              "}\n",
              "\n",
              "/* Toggleable content - dropdown */\n",
              "\n",
              "#sk-container-id-1 div.sk-toggleable__content {\n",
              "  max-height: 0;\n",
              "  max-width: 0;\n",
              "  overflow: hidden;\n",
              "  text-align: left;\n",
              "  /* unfitted */\n",
              "  background-color: var(--sklearn-color-unfitted-level-0);\n",
              "}\n",
              "\n",
              "#sk-container-id-1 div.sk-toggleable__content.fitted {\n",
              "  /* fitted */\n",
              "  background-color: var(--sklearn-color-fitted-level-0);\n",
              "}\n",
              "\n",
              "#sk-container-id-1 div.sk-toggleable__content pre {\n",
              "  margin: 0.2em;\n",
              "  border-radius: 0.25em;\n",
              "  color: var(--sklearn-color-text);\n",
              "  /* unfitted */\n",
              "  background-color: var(--sklearn-color-unfitted-level-0);\n",
              "}\n",
              "\n",
              "#sk-container-id-1 div.sk-toggleable__content.fitted pre {\n",
              "  /* unfitted */\n",
              "  background-color: var(--sklearn-color-fitted-level-0);\n",
              "}\n",
              "\n",
              "#sk-container-id-1 input.sk-toggleable__control:checked~div.sk-toggleable__content {\n",
              "  /* Expand drop-down */\n",
              "  max-height: 200px;\n",
              "  max-width: 100%;\n",
              "  overflow: auto;\n",
              "}\n",
              "\n",
              "#sk-container-id-1 input.sk-toggleable__control:checked~label.sk-toggleable__label-arrow:before {\n",
              "  content: \"▾\";\n",
              "}\n",
              "\n",
              "/* Pipeline/ColumnTransformer-specific style */\n",
              "\n",
              "#sk-container-id-1 div.sk-label input.sk-toggleable__control:checked~label.sk-toggleable__label {\n",
              "  color: var(--sklearn-color-text);\n",
              "  background-color: var(--sklearn-color-unfitted-level-2);\n",
              "}\n",
              "\n",
              "#sk-container-id-1 div.sk-label.fitted input.sk-toggleable__control:checked~label.sk-toggleable__label {\n",
              "  background-color: var(--sklearn-color-fitted-level-2);\n",
              "}\n",
              "\n",
              "/* Estimator-specific style */\n",
              "\n",
              "/* Colorize estimator box */\n",
              "#sk-container-id-1 div.sk-estimator input.sk-toggleable__control:checked~label.sk-toggleable__label {\n",
              "  /* unfitted */\n",
              "  background-color: var(--sklearn-color-unfitted-level-2);\n",
              "}\n",
              "\n",
              "#sk-container-id-1 div.sk-estimator.fitted input.sk-toggleable__control:checked~label.sk-toggleable__label {\n",
              "  /* fitted */\n",
              "  background-color: var(--sklearn-color-fitted-level-2);\n",
              "}\n",
              "\n",
              "#sk-container-id-1 div.sk-label label.sk-toggleable__label,\n",
              "#sk-container-id-1 div.sk-label label {\n",
              "  /* The background is the default theme color */\n",
              "  color: var(--sklearn-color-text-on-default-background);\n",
              "}\n",
              "\n",
              "/* On hover, darken the color of the background */\n",
              "#sk-container-id-1 div.sk-label:hover label.sk-toggleable__label {\n",
              "  color: var(--sklearn-color-text);\n",
              "  background-color: var(--sklearn-color-unfitted-level-2);\n",
              "}\n",
              "\n",
              "/* Label box, darken color on hover, fitted */\n",
              "#sk-container-id-1 div.sk-label.fitted:hover label.sk-toggleable__label.fitted {\n",
              "  color: var(--sklearn-color-text);\n",
              "  background-color: var(--sklearn-color-fitted-level-2);\n",
              "}\n",
              "\n",
              "/* Estimator label */\n",
              "\n",
              "#sk-container-id-1 div.sk-label label {\n",
              "  font-family: monospace;\n",
              "  font-weight: bold;\n",
              "  display: inline-block;\n",
              "  line-height: 1.2em;\n",
              "}\n",
              "\n",
              "#sk-container-id-1 div.sk-label-container {\n",
              "  text-align: center;\n",
              "}\n",
              "\n",
              "/* Estimator-specific */\n",
              "#sk-container-id-1 div.sk-estimator {\n",
              "  font-family: monospace;\n",
              "  border: 1px dotted var(--sklearn-color-border-box);\n",
              "  border-radius: 0.25em;\n",
              "  box-sizing: border-box;\n",
              "  margin-bottom: 0.5em;\n",
              "  /* unfitted */\n",
              "  background-color: var(--sklearn-color-unfitted-level-0);\n",
              "}\n",
              "\n",
              "#sk-container-id-1 div.sk-estimator.fitted {\n",
              "  /* fitted */\n",
              "  background-color: var(--sklearn-color-fitted-level-0);\n",
              "}\n",
              "\n",
              "/* on hover */\n",
              "#sk-container-id-1 div.sk-estimator:hover {\n",
              "  /* unfitted */\n",
              "  background-color: var(--sklearn-color-unfitted-level-2);\n",
              "}\n",
              "\n",
              "#sk-container-id-1 div.sk-estimator.fitted:hover {\n",
              "  /* fitted */\n",
              "  background-color: var(--sklearn-color-fitted-level-2);\n",
              "}\n",
              "\n",
              "/* Specification for estimator info (e.g. \"i\" and \"?\") */\n",
              "\n",
              "/* Common style for \"i\" and \"?\" */\n",
              "\n",
              ".sk-estimator-doc-link,\n",
              "a:link.sk-estimator-doc-link,\n",
              "a:visited.sk-estimator-doc-link {\n",
              "  float: right;\n",
              "  font-size: smaller;\n",
              "  line-height: 1em;\n",
              "  font-family: monospace;\n",
              "  background-color: var(--sklearn-color-background);\n",
              "  border-radius: 1em;\n",
              "  height: 1em;\n",
              "  width: 1em;\n",
              "  text-decoration: none !important;\n",
              "  margin-left: 1ex;\n",
              "  /* unfitted */\n",
              "  border: var(--sklearn-color-unfitted-level-1) 1pt solid;\n",
              "  color: var(--sklearn-color-unfitted-level-1);\n",
              "}\n",
              "\n",
              ".sk-estimator-doc-link.fitted,\n",
              "a:link.sk-estimator-doc-link.fitted,\n",
              "a:visited.sk-estimator-doc-link.fitted {\n",
              "  /* fitted */\n",
              "  border: var(--sklearn-color-fitted-level-1) 1pt solid;\n",
              "  color: var(--sklearn-color-fitted-level-1);\n",
              "}\n",
              "\n",
              "/* On hover */\n",
              "div.sk-estimator:hover .sk-estimator-doc-link:hover,\n",
              ".sk-estimator-doc-link:hover,\n",
              "div.sk-label-container:hover .sk-estimator-doc-link:hover,\n",
              ".sk-estimator-doc-link:hover {\n",
              "  /* unfitted */\n",
              "  background-color: var(--sklearn-color-unfitted-level-3);\n",
              "  color: var(--sklearn-color-background);\n",
              "  text-decoration: none;\n",
              "}\n",
              "\n",
              "div.sk-estimator.fitted:hover .sk-estimator-doc-link.fitted:hover,\n",
              ".sk-estimator-doc-link.fitted:hover,\n",
              "div.sk-label-container:hover .sk-estimator-doc-link.fitted:hover,\n",
              ".sk-estimator-doc-link.fitted:hover {\n",
              "  /* fitted */\n",
              "  background-color: var(--sklearn-color-fitted-level-3);\n",
              "  color: var(--sklearn-color-background);\n",
              "  text-decoration: none;\n",
              "}\n",
              "\n",
              "/* Span, style for the box shown on hovering the info icon */\n",
              ".sk-estimator-doc-link span {\n",
              "  display: none;\n",
              "  z-index: 9999;\n",
              "  position: relative;\n",
              "  font-weight: normal;\n",
              "  right: .2ex;\n",
              "  padding: .5ex;\n",
              "  margin: .5ex;\n",
              "  width: min-content;\n",
              "  min-width: 20ex;\n",
              "  max-width: 50ex;\n",
              "  color: var(--sklearn-color-text);\n",
              "  box-shadow: 2pt 2pt 4pt #999;\n",
              "  /* unfitted */\n",
              "  background: var(--sklearn-color-unfitted-level-0);\n",
              "  border: .5pt solid var(--sklearn-color-unfitted-level-3);\n",
              "}\n",
              "\n",
              ".sk-estimator-doc-link.fitted span {\n",
              "  /* fitted */\n",
              "  background: var(--sklearn-color-fitted-level-0);\n",
              "  border: var(--sklearn-color-fitted-level-3);\n",
              "}\n",
              "\n",
              ".sk-estimator-doc-link:hover span {\n",
              "  display: block;\n",
              "}\n",
              "\n",
              "/* \"?\"-specific style due to the `<a>` HTML tag */\n",
              "\n",
              "#sk-container-id-1 a.estimator_doc_link {\n",
              "  float: right;\n",
              "  font-size: 1rem;\n",
              "  line-height: 1em;\n",
              "  font-family: monospace;\n",
              "  background-color: var(--sklearn-color-background);\n",
              "  border-radius: 1rem;\n",
              "  height: 1rem;\n",
              "  width: 1rem;\n",
              "  text-decoration: none;\n",
              "  /* unfitted */\n",
              "  color: var(--sklearn-color-unfitted-level-1);\n",
              "  border: var(--sklearn-color-unfitted-level-1) 1pt solid;\n",
              "}\n",
              "\n",
              "#sk-container-id-1 a.estimator_doc_link.fitted {\n",
              "  /* fitted */\n",
              "  border: var(--sklearn-color-fitted-level-1) 1pt solid;\n",
              "  color: var(--sklearn-color-fitted-level-1);\n",
              "}\n",
              "\n",
              "/* On hover */\n",
              "#sk-container-id-1 a.estimator_doc_link:hover {\n",
              "  /* unfitted */\n",
              "  background-color: var(--sklearn-color-unfitted-level-3);\n",
              "  color: var(--sklearn-color-background);\n",
              "  text-decoration: none;\n",
              "}\n",
              "\n",
              "#sk-container-id-1 a.estimator_doc_link.fitted:hover {\n",
              "  /* fitted */\n",
              "  background-color: var(--sklearn-color-fitted-level-3);\n",
              "}\n",
              "</style><div id=\"sk-container-id-1\" class=\"sk-top-container\"><div class=\"sk-text-repr-fallback\"><pre>RandomizedSearchCV(cv=5, estimator=KNeighborsClassifier(), n_iter=50, n_jobs=-1,\n",
              "                   param_distributions={&#x27;metric&#x27;: [&#x27;euclidean&#x27;, &#x27;manhattan&#x27;,\n",
              "                                                   &#x27;minkowski&#x27;],\n",
              "                                        &#x27;n_neighbors&#x27;: array([ 3,  4,  5,  6,  7,  8,  9, 10, 11, 12, 13, 14, 15, 16, 17, 18, 19,\n",
              "       20]),\n",
              "                                        &#x27;weights&#x27;: [&#x27;uniform&#x27;, &#x27;distance&#x27;]},\n",
              "                   random_state=42, scoring=&#x27;f1_macro&#x27;, verbose=1)</pre><b>In a Jupyter environment, please rerun this cell to show the HTML representation or trust the notebook. <br />On GitHub, the HTML representation is unable to render, please try loading this page with nbviewer.org.</b></div><div class=\"sk-container\" hidden><div class=\"sk-item sk-dashed-wrapped\"><div class=\"sk-label-container\"><div class=\"sk-label fitted sk-toggleable\"><input class=\"sk-toggleable__control sk-hidden--visually\" id=\"sk-estimator-id-1\" type=\"checkbox\" ><label for=\"sk-estimator-id-1\" class=\"sk-toggleable__label fitted sk-toggleable__label-arrow fitted\">&nbsp;&nbsp;RandomizedSearchCV<a class=\"sk-estimator-doc-link fitted\" rel=\"noreferrer\" target=\"_blank\" href=\"https://scikit-learn.org/1.5/modules/generated/sklearn.model_selection.RandomizedSearchCV.html\">?<span>Documentation for RandomizedSearchCV</span></a><span class=\"sk-estimator-doc-link fitted\">i<span>Fitted</span></span></label><div class=\"sk-toggleable__content fitted\"><pre>RandomizedSearchCV(cv=5, estimator=KNeighborsClassifier(), n_iter=50, n_jobs=-1,\n",
              "                   param_distributions={&#x27;metric&#x27;: [&#x27;euclidean&#x27;, &#x27;manhattan&#x27;,\n",
              "                                                   &#x27;minkowski&#x27;],\n",
              "                                        &#x27;n_neighbors&#x27;: array([ 3,  4,  5,  6,  7,  8,  9, 10, 11, 12, 13, 14, 15, 16, 17, 18, 19,\n",
              "       20]),\n",
              "                                        &#x27;weights&#x27;: [&#x27;uniform&#x27;, &#x27;distance&#x27;]},\n",
              "                   random_state=42, scoring=&#x27;f1_macro&#x27;, verbose=1)</pre></div> </div></div><div class=\"sk-parallel\"><div class=\"sk-parallel-item\"><div class=\"sk-item\"><div class=\"sk-label-container\"><div class=\"sk-label fitted sk-toggleable\"><input class=\"sk-toggleable__control sk-hidden--visually\" id=\"sk-estimator-id-2\" type=\"checkbox\" ><label for=\"sk-estimator-id-2\" class=\"sk-toggleable__label fitted sk-toggleable__label-arrow fitted\">best_estimator_: KNeighborsClassifier</label><div class=\"sk-toggleable__content fitted\"><pre>KNeighborsClassifier(metric=&#x27;manhattan&#x27;, n_neighbors=np.int64(4),\n",
              "                     weights=&#x27;distance&#x27;)</pre></div> </div></div><div class=\"sk-serial\"><div class=\"sk-item\"><div class=\"sk-estimator fitted sk-toggleable\"><input class=\"sk-toggleable__control sk-hidden--visually\" id=\"sk-estimator-id-3\" type=\"checkbox\" ><label for=\"sk-estimator-id-3\" class=\"sk-toggleable__label fitted sk-toggleable__label-arrow fitted\">&nbsp;KNeighborsClassifier<a class=\"sk-estimator-doc-link fitted\" rel=\"noreferrer\" target=\"_blank\" href=\"https://scikit-learn.org/1.5/modules/generated/sklearn.neighbors.KNeighborsClassifier.html\">?<span>Documentation for KNeighborsClassifier</span></a></label><div class=\"sk-toggleable__content fitted\"><pre>KNeighborsClassifier(metric=&#x27;manhattan&#x27;, n_neighbors=np.int64(4),\n",
              "                     weights=&#x27;distance&#x27;)</pre></div> </div></div></div></div></div></div></div></div></div>"
            ],
            "text/plain": [
              "RandomizedSearchCV(cv=5, estimator=KNeighborsClassifier(), n_iter=50, n_jobs=-1,\n",
              "                   param_distributions={'metric': ['euclidean', 'manhattan',\n",
              "                                                   'minkowski'],\n",
              "                                        'n_neighbors': array([ 3,  4,  5,  6,  7,  8,  9, 10, 11, 12, 13, 14, 15, 16, 17, 18, 19,\n",
              "       20]),\n",
              "                                        'weights': ['uniform', 'distance']},\n",
              "                   random_state=42, scoring='f1_macro', verbose=1)"
            ]
          },
          "execution_count": 72,
          "metadata": {},
          "output_type": "execute_result"
        }
      ],
      "source": [
        "random_search.fit(train_data, train_target)"
      ]
    },
    {
      "cell_type": "code",
      "execution_count": 73,
      "metadata": {
        "colab": {
          "base_uri": "https://localhost:8080/"
        },
        "id": "0huXGU6f2k6w",
        "outputId": "a3168f81-d0e2-4b55-c7e1-f57ac444b14c"
      },
      "outputs": [
        {
          "name": "stdout",
          "output_type": "stream",
          "text": [
            "Best parameters found:  {'weights': 'distance', 'n_neighbors': np.int64(4), 'metric': 'manhattan'}\n"
          ]
        }
      ],
      "source": [
        "print(\"Best parameters found: \", random_search.best_params_)"
      ]
    },
    {
      "cell_type": "code",
      "execution_count": 74,
      "metadata": {
        "id": "-wbAzcwx2rQ0"
      },
      "outputs": [],
      "source": [
        "best_knn_model = random_search.best_estimator_"
      ]
    },
    {
      "cell_type": "code",
      "execution_count": 75,
      "metadata": {
        "colab": {
          "base_uri": "https://localhost:8080/",
          "height": 80
        },
        "id": "17ERVLTu2vdz",
        "outputId": "9fa0323f-fef7-4c2a-9566-c5bde010332b"
      },
      "outputs": [
        {
          "data": {
            "text/html": [
              "<style>#sk-container-id-2 {\n",
              "  /* Definition of color scheme common for light and dark mode */\n",
              "  --sklearn-color-text: black;\n",
              "  --sklearn-color-line: gray;\n",
              "  /* Definition of color scheme for unfitted estimators */\n",
              "  --sklearn-color-unfitted-level-0: #fff5e6;\n",
              "  --sklearn-color-unfitted-level-1: #f6e4d2;\n",
              "  --sklearn-color-unfitted-level-2: #ffe0b3;\n",
              "  --sklearn-color-unfitted-level-3: chocolate;\n",
              "  /* Definition of color scheme for fitted estimators */\n",
              "  --sklearn-color-fitted-level-0: #f0f8ff;\n",
              "  --sklearn-color-fitted-level-1: #d4ebff;\n",
              "  --sklearn-color-fitted-level-2: #b3dbfd;\n",
              "  --sklearn-color-fitted-level-3: cornflowerblue;\n",
              "\n",
              "  /* Specific color for light theme */\n",
              "  --sklearn-color-text-on-default-background: var(--sg-text-color, var(--theme-code-foreground, var(--jp-content-font-color1, black)));\n",
              "  --sklearn-color-background: var(--sg-background-color, var(--theme-background, var(--jp-layout-color0, white)));\n",
              "  --sklearn-color-border-box: var(--sg-text-color, var(--theme-code-foreground, var(--jp-content-font-color1, black)));\n",
              "  --sklearn-color-icon: #696969;\n",
              "\n",
              "  @media (prefers-color-scheme: dark) {\n",
              "    /* Redefinition of color scheme for dark theme */\n",
              "    --sklearn-color-text-on-default-background: var(--sg-text-color, var(--theme-code-foreground, var(--jp-content-font-color1, white)));\n",
              "    --sklearn-color-background: var(--sg-background-color, var(--theme-background, var(--jp-layout-color0, #111)));\n",
              "    --sklearn-color-border-box: var(--sg-text-color, var(--theme-code-foreground, var(--jp-content-font-color1, white)));\n",
              "    --sklearn-color-icon: #878787;\n",
              "  }\n",
              "}\n",
              "\n",
              "#sk-container-id-2 {\n",
              "  color: var(--sklearn-color-text);\n",
              "}\n",
              "\n",
              "#sk-container-id-2 pre {\n",
              "  padding: 0;\n",
              "}\n",
              "\n",
              "#sk-container-id-2 input.sk-hidden--visually {\n",
              "  border: 0;\n",
              "  clip: rect(1px 1px 1px 1px);\n",
              "  clip: rect(1px, 1px, 1px, 1px);\n",
              "  height: 1px;\n",
              "  margin: -1px;\n",
              "  overflow: hidden;\n",
              "  padding: 0;\n",
              "  position: absolute;\n",
              "  width: 1px;\n",
              "}\n",
              "\n",
              "#sk-container-id-2 div.sk-dashed-wrapped {\n",
              "  border: 1px dashed var(--sklearn-color-line);\n",
              "  margin: 0 0.4em 0.5em 0.4em;\n",
              "  box-sizing: border-box;\n",
              "  padding-bottom: 0.4em;\n",
              "  background-color: var(--sklearn-color-background);\n",
              "}\n",
              "\n",
              "#sk-container-id-2 div.sk-container {\n",
              "  /* jupyter's `normalize.less` sets `[hidden] { display: none; }`\n",
              "     but bootstrap.min.css set `[hidden] { display: none !important; }`\n",
              "     so we also need the `!important` here to be able to override the\n",
              "     default hidden behavior on the sphinx rendered scikit-learn.org.\n",
              "     See: https://github.com/scikit-learn/scikit-learn/issues/21755 */\n",
              "  display: inline-block !important;\n",
              "  position: relative;\n",
              "}\n",
              "\n",
              "#sk-container-id-2 div.sk-text-repr-fallback {\n",
              "  display: none;\n",
              "}\n",
              "\n",
              "div.sk-parallel-item,\n",
              "div.sk-serial,\n",
              "div.sk-item {\n",
              "  /* draw centered vertical line to link estimators */\n",
              "  background-image: linear-gradient(var(--sklearn-color-text-on-default-background), var(--sklearn-color-text-on-default-background));\n",
              "  background-size: 2px 100%;\n",
              "  background-repeat: no-repeat;\n",
              "  background-position: center center;\n",
              "}\n",
              "\n",
              "/* Parallel-specific style estimator block */\n",
              "\n",
              "#sk-container-id-2 div.sk-parallel-item::after {\n",
              "  content: \"\";\n",
              "  width: 100%;\n",
              "  border-bottom: 2px solid var(--sklearn-color-text-on-default-background);\n",
              "  flex-grow: 1;\n",
              "}\n",
              "\n",
              "#sk-container-id-2 div.sk-parallel {\n",
              "  display: flex;\n",
              "  align-items: stretch;\n",
              "  justify-content: center;\n",
              "  background-color: var(--sklearn-color-background);\n",
              "  position: relative;\n",
              "}\n",
              "\n",
              "#sk-container-id-2 div.sk-parallel-item {\n",
              "  display: flex;\n",
              "  flex-direction: column;\n",
              "}\n",
              "\n",
              "#sk-container-id-2 div.sk-parallel-item:first-child::after {\n",
              "  align-self: flex-end;\n",
              "  width: 50%;\n",
              "}\n",
              "\n",
              "#sk-container-id-2 div.sk-parallel-item:last-child::after {\n",
              "  align-self: flex-start;\n",
              "  width: 50%;\n",
              "}\n",
              "\n",
              "#sk-container-id-2 div.sk-parallel-item:only-child::after {\n",
              "  width: 0;\n",
              "}\n",
              "\n",
              "/* Serial-specific style estimator block */\n",
              "\n",
              "#sk-container-id-2 div.sk-serial {\n",
              "  display: flex;\n",
              "  flex-direction: column;\n",
              "  align-items: center;\n",
              "  background-color: var(--sklearn-color-background);\n",
              "  padding-right: 1em;\n",
              "  padding-left: 1em;\n",
              "}\n",
              "\n",
              "\n",
              "/* Toggleable style: style used for estimator/Pipeline/ColumnTransformer box that is\n",
              "clickable and can be expanded/collapsed.\n",
              "- Pipeline and ColumnTransformer use this feature and define the default style\n",
              "- Estimators will overwrite some part of the style using the `sk-estimator` class\n",
              "*/\n",
              "\n",
              "/* Pipeline and ColumnTransformer style (default) */\n",
              "\n",
              "#sk-container-id-2 div.sk-toggleable {\n",
              "  /* Default theme specific background. It is overwritten whether we have a\n",
              "  specific estimator or a Pipeline/ColumnTransformer */\n",
              "  background-color: var(--sklearn-color-background);\n",
              "}\n",
              "\n",
              "/* Toggleable label */\n",
              "#sk-container-id-2 label.sk-toggleable__label {\n",
              "  cursor: pointer;\n",
              "  display: block;\n",
              "  width: 100%;\n",
              "  margin-bottom: 0;\n",
              "  padding: 0.5em;\n",
              "  box-sizing: border-box;\n",
              "  text-align: center;\n",
              "}\n",
              "\n",
              "#sk-container-id-2 label.sk-toggleable__label-arrow:before {\n",
              "  /* Arrow on the left of the label */\n",
              "  content: \"▸\";\n",
              "  float: left;\n",
              "  margin-right: 0.25em;\n",
              "  color: var(--sklearn-color-icon);\n",
              "}\n",
              "\n",
              "#sk-container-id-2 label.sk-toggleable__label-arrow:hover:before {\n",
              "  color: var(--sklearn-color-text);\n",
              "}\n",
              "\n",
              "/* Toggleable content - dropdown */\n",
              "\n",
              "#sk-container-id-2 div.sk-toggleable__content {\n",
              "  max-height: 0;\n",
              "  max-width: 0;\n",
              "  overflow: hidden;\n",
              "  text-align: left;\n",
              "  /* unfitted */\n",
              "  background-color: var(--sklearn-color-unfitted-level-0);\n",
              "}\n",
              "\n",
              "#sk-container-id-2 div.sk-toggleable__content.fitted {\n",
              "  /* fitted */\n",
              "  background-color: var(--sklearn-color-fitted-level-0);\n",
              "}\n",
              "\n",
              "#sk-container-id-2 div.sk-toggleable__content pre {\n",
              "  margin: 0.2em;\n",
              "  border-radius: 0.25em;\n",
              "  color: var(--sklearn-color-text);\n",
              "  /* unfitted */\n",
              "  background-color: var(--sklearn-color-unfitted-level-0);\n",
              "}\n",
              "\n",
              "#sk-container-id-2 div.sk-toggleable__content.fitted pre {\n",
              "  /* unfitted */\n",
              "  background-color: var(--sklearn-color-fitted-level-0);\n",
              "}\n",
              "\n",
              "#sk-container-id-2 input.sk-toggleable__control:checked~div.sk-toggleable__content {\n",
              "  /* Expand drop-down */\n",
              "  max-height: 200px;\n",
              "  max-width: 100%;\n",
              "  overflow: auto;\n",
              "}\n",
              "\n",
              "#sk-container-id-2 input.sk-toggleable__control:checked~label.sk-toggleable__label-arrow:before {\n",
              "  content: \"▾\";\n",
              "}\n",
              "\n",
              "/* Pipeline/ColumnTransformer-specific style */\n",
              "\n",
              "#sk-container-id-2 div.sk-label input.sk-toggleable__control:checked~label.sk-toggleable__label {\n",
              "  color: var(--sklearn-color-text);\n",
              "  background-color: var(--sklearn-color-unfitted-level-2);\n",
              "}\n",
              "\n",
              "#sk-container-id-2 div.sk-label.fitted input.sk-toggleable__control:checked~label.sk-toggleable__label {\n",
              "  background-color: var(--sklearn-color-fitted-level-2);\n",
              "}\n",
              "\n",
              "/* Estimator-specific style */\n",
              "\n",
              "/* Colorize estimator box */\n",
              "#sk-container-id-2 div.sk-estimator input.sk-toggleable__control:checked~label.sk-toggleable__label {\n",
              "  /* unfitted */\n",
              "  background-color: var(--sklearn-color-unfitted-level-2);\n",
              "}\n",
              "\n",
              "#sk-container-id-2 div.sk-estimator.fitted input.sk-toggleable__control:checked~label.sk-toggleable__label {\n",
              "  /* fitted */\n",
              "  background-color: var(--sklearn-color-fitted-level-2);\n",
              "}\n",
              "\n",
              "#sk-container-id-2 div.sk-label label.sk-toggleable__label,\n",
              "#sk-container-id-2 div.sk-label label {\n",
              "  /* The background is the default theme color */\n",
              "  color: var(--sklearn-color-text-on-default-background);\n",
              "}\n",
              "\n",
              "/* On hover, darken the color of the background */\n",
              "#sk-container-id-2 div.sk-label:hover label.sk-toggleable__label {\n",
              "  color: var(--sklearn-color-text);\n",
              "  background-color: var(--sklearn-color-unfitted-level-2);\n",
              "}\n",
              "\n",
              "/* Label box, darken color on hover, fitted */\n",
              "#sk-container-id-2 div.sk-label.fitted:hover label.sk-toggleable__label.fitted {\n",
              "  color: var(--sklearn-color-text);\n",
              "  background-color: var(--sklearn-color-fitted-level-2);\n",
              "}\n",
              "\n",
              "/* Estimator label */\n",
              "\n",
              "#sk-container-id-2 div.sk-label label {\n",
              "  font-family: monospace;\n",
              "  font-weight: bold;\n",
              "  display: inline-block;\n",
              "  line-height: 1.2em;\n",
              "}\n",
              "\n",
              "#sk-container-id-2 div.sk-label-container {\n",
              "  text-align: center;\n",
              "}\n",
              "\n",
              "/* Estimator-specific */\n",
              "#sk-container-id-2 div.sk-estimator {\n",
              "  font-family: monospace;\n",
              "  border: 1px dotted var(--sklearn-color-border-box);\n",
              "  border-radius: 0.25em;\n",
              "  box-sizing: border-box;\n",
              "  margin-bottom: 0.5em;\n",
              "  /* unfitted */\n",
              "  background-color: var(--sklearn-color-unfitted-level-0);\n",
              "}\n",
              "\n",
              "#sk-container-id-2 div.sk-estimator.fitted {\n",
              "  /* fitted */\n",
              "  background-color: var(--sklearn-color-fitted-level-0);\n",
              "}\n",
              "\n",
              "/* on hover */\n",
              "#sk-container-id-2 div.sk-estimator:hover {\n",
              "  /* unfitted */\n",
              "  background-color: var(--sklearn-color-unfitted-level-2);\n",
              "}\n",
              "\n",
              "#sk-container-id-2 div.sk-estimator.fitted:hover {\n",
              "  /* fitted */\n",
              "  background-color: var(--sklearn-color-fitted-level-2);\n",
              "}\n",
              "\n",
              "/* Specification for estimator info (e.g. \"i\" and \"?\") */\n",
              "\n",
              "/* Common style for \"i\" and \"?\" */\n",
              "\n",
              ".sk-estimator-doc-link,\n",
              "a:link.sk-estimator-doc-link,\n",
              "a:visited.sk-estimator-doc-link {\n",
              "  float: right;\n",
              "  font-size: smaller;\n",
              "  line-height: 1em;\n",
              "  font-family: monospace;\n",
              "  background-color: var(--sklearn-color-background);\n",
              "  border-radius: 1em;\n",
              "  height: 1em;\n",
              "  width: 1em;\n",
              "  text-decoration: none !important;\n",
              "  margin-left: 1ex;\n",
              "  /* unfitted */\n",
              "  border: var(--sklearn-color-unfitted-level-1) 1pt solid;\n",
              "  color: var(--sklearn-color-unfitted-level-1);\n",
              "}\n",
              "\n",
              ".sk-estimator-doc-link.fitted,\n",
              "a:link.sk-estimator-doc-link.fitted,\n",
              "a:visited.sk-estimator-doc-link.fitted {\n",
              "  /* fitted */\n",
              "  border: var(--sklearn-color-fitted-level-1) 1pt solid;\n",
              "  color: var(--sklearn-color-fitted-level-1);\n",
              "}\n",
              "\n",
              "/* On hover */\n",
              "div.sk-estimator:hover .sk-estimator-doc-link:hover,\n",
              ".sk-estimator-doc-link:hover,\n",
              "div.sk-label-container:hover .sk-estimator-doc-link:hover,\n",
              ".sk-estimator-doc-link:hover {\n",
              "  /* unfitted */\n",
              "  background-color: var(--sklearn-color-unfitted-level-3);\n",
              "  color: var(--sklearn-color-background);\n",
              "  text-decoration: none;\n",
              "}\n",
              "\n",
              "div.sk-estimator.fitted:hover .sk-estimator-doc-link.fitted:hover,\n",
              ".sk-estimator-doc-link.fitted:hover,\n",
              "div.sk-label-container:hover .sk-estimator-doc-link.fitted:hover,\n",
              ".sk-estimator-doc-link.fitted:hover {\n",
              "  /* fitted */\n",
              "  background-color: var(--sklearn-color-fitted-level-3);\n",
              "  color: var(--sklearn-color-background);\n",
              "  text-decoration: none;\n",
              "}\n",
              "\n",
              "/* Span, style for the box shown on hovering the info icon */\n",
              ".sk-estimator-doc-link span {\n",
              "  display: none;\n",
              "  z-index: 9999;\n",
              "  position: relative;\n",
              "  font-weight: normal;\n",
              "  right: .2ex;\n",
              "  padding: .5ex;\n",
              "  margin: .5ex;\n",
              "  width: min-content;\n",
              "  min-width: 20ex;\n",
              "  max-width: 50ex;\n",
              "  color: var(--sklearn-color-text);\n",
              "  box-shadow: 2pt 2pt 4pt #999;\n",
              "  /* unfitted */\n",
              "  background: var(--sklearn-color-unfitted-level-0);\n",
              "  border: .5pt solid var(--sklearn-color-unfitted-level-3);\n",
              "}\n",
              "\n",
              ".sk-estimator-doc-link.fitted span {\n",
              "  /* fitted */\n",
              "  background: var(--sklearn-color-fitted-level-0);\n",
              "  border: var(--sklearn-color-fitted-level-3);\n",
              "}\n",
              "\n",
              ".sk-estimator-doc-link:hover span {\n",
              "  display: block;\n",
              "}\n",
              "\n",
              "/* \"?\"-specific style due to the `<a>` HTML tag */\n",
              "\n",
              "#sk-container-id-2 a.estimator_doc_link {\n",
              "  float: right;\n",
              "  font-size: 1rem;\n",
              "  line-height: 1em;\n",
              "  font-family: monospace;\n",
              "  background-color: var(--sklearn-color-background);\n",
              "  border-radius: 1rem;\n",
              "  height: 1rem;\n",
              "  width: 1rem;\n",
              "  text-decoration: none;\n",
              "  /* unfitted */\n",
              "  color: var(--sklearn-color-unfitted-level-1);\n",
              "  border: var(--sklearn-color-unfitted-level-1) 1pt solid;\n",
              "}\n",
              "\n",
              "#sk-container-id-2 a.estimator_doc_link.fitted {\n",
              "  /* fitted */\n",
              "  border: var(--sklearn-color-fitted-level-1) 1pt solid;\n",
              "  color: var(--sklearn-color-fitted-level-1);\n",
              "}\n",
              "\n",
              "/* On hover */\n",
              "#sk-container-id-2 a.estimator_doc_link:hover {\n",
              "  /* unfitted */\n",
              "  background-color: var(--sklearn-color-unfitted-level-3);\n",
              "  color: var(--sklearn-color-background);\n",
              "  text-decoration: none;\n",
              "}\n",
              "\n",
              "#sk-container-id-2 a.estimator_doc_link.fitted:hover {\n",
              "  /* fitted */\n",
              "  background-color: var(--sklearn-color-fitted-level-3);\n",
              "}\n",
              "</style><div id=\"sk-container-id-2\" class=\"sk-top-container\"><div class=\"sk-text-repr-fallback\"><pre>KNeighborsClassifier(metric=&#x27;manhattan&#x27;, n_neighbors=np.int64(4),\n",
              "                     weights=&#x27;distance&#x27;)</pre><b>In a Jupyter environment, please rerun this cell to show the HTML representation or trust the notebook. <br />On GitHub, the HTML representation is unable to render, please try loading this page with nbviewer.org.</b></div><div class=\"sk-container\" hidden><div class=\"sk-item\"><div class=\"sk-estimator fitted sk-toggleable\"><input class=\"sk-toggleable__control sk-hidden--visually\" id=\"sk-estimator-id-4\" type=\"checkbox\" checked><label for=\"sk-estimator-id-4\" class=\"sk-toggleable__label fitted sk-toggleable__label-arrow fitted\">&nbsp;&nbsp;KNeighborsClassifier<a class=\"sk-estimator-doc-link fitted\" rel=\"noreferrer\" target=\"_blank\" href=\"https://scikit-learn.org/1.5/modules/generated/sklearn.neighbors.KNeighborsClassifier.html\">?<span>Documentation for KNeighborsClassifier</span></a><span class=\"sk-estimator-doc-link fitted\">i<span>Fitted</span></span></label><div class=\"sk-toggleable__content fitted\"><pre>KNeighborsClassifier(metric=&#x27;manhattan&#x27;, n_neighbors=np.int64(4),\n",
              "                     weights=&#x27;distance&#x27;)</pre></div> </div></div></div></div>"
            ],
            "text/plain": [
              "KNeighborsClassifier(metric='manhattan', n_neighbors=np.int64(4),\n",
              "                     weights='distance')"
            ]
          },
          "execution_count": 75,
          "metadata": {},
          "output_type": "execute_result"
        }
      ],
      "source": [
        "best_knn_model.fit(train_data, train_target)"
      ]
    },
    {
      "cell_type": "code",
      "execution_count": 76,
      "metadata": {
        "id": "WYtz9IrF2zBR"
      },
      "outputs": [],
      "source": [
        "predicted_target_3 = best_knn_model.predict(test_data)"
      ]
    },
    {
      "cell_type": "code",
      "execution_count": 77,
      "metadata": {
        "colab": {
          "base_uri": "https://localhost:8080/"
        },
        "id": "JkKPiJKD20JP",
        "outputId": "6d2b59c1-57d7-4efb-f5e2-3f89c00d5f21"
      },
      "outputs": [
        {
          "name": "stdout",
          "output_type": "stream",
          "text": [
            "Accuracy  : 0.7693430656934307\n"
          ]
        }
      ],
      "source": [
        "acc3 = accuracy_score(test_target,predicted_target_3)\n",
        "print(\"Accuracy  :\",acc3)"
      ]
    },
    {
      "cell_type": "code",
      "execution_count": 78,
      "metadata": {
        "colab": {
          "base_uri": "https://localhost:8080/"
        },
        "id": "IKqaL6w523ju",
        "outputId": "d5460e02-c095-41a9-f785-e09c7dee079d"
      },
      "outputs": [
        {
          "name": "stdout",
          "output_type": "stream",
          "text": [
            "              precision    recall  f1-score   support\n",
            "\n",
            "           1       0.78      0.51      0.62       689\n",
            "           2       0.72      0.80      0.76       680\n",
            "           3       0.81      0.99      0.89       686\n",
            "\n",
            "    accuracy                           0.77      2055\n",
            "   macro avg       0.77      0.77      0.76      2055\n",
            "weighted avg       0.77      0.77      0.76      2055\n",
            "\n"
          ]
        }
      ],
      "source": [
        "report3 = classification_report(test_target,predicted_target_3)\n",
        "print(report3)"
      ]
    },
    {
      "cell_type": "code",
      "execution_count": 79,
      "metadata": {
        "colab": {
          "base_uri": "https://localhost:8080/",
          "height": 449
        },
        "id": "9OUVHsuh3Jsn",
        "outputId": "7f5b75dd-37e3-45ca-c09c-0b0ec41388fa"
      },
      "outputs": [
        {
          "data": {
            "image/png": "[encoded data removed]",
            "text/plain": [
              "<Figure size 640x480 with 2 Axes>"
            ]
          },
          "metadata": {},
          "output_type": "display_data"
        }
      ],
      "source": [
        "cm3 = confusion_matrix(test_target, predicted_target_3, labels=best_knn_model.classes_)\n",
        "\n",
        "disp = ConfusionMatrixDisplay(confusion_matrix=cm3, display_labels=best_knn_model.classes_)\n",
        "\n",
        "disp.plot()\n",
        "plt.show()"
      ]
    },
    {
      "cell_type": "code",
      "execution_count": 80,
      "metadata": {
        "colab": {
          "base_uri": "https://localhost:8080/"
        },
        "id": "Vzk2NtVF3YwR",
        "outputId": "4df79754-6a8f-4645-b2b9-6f55dd16f9ed"
      },
      "outputs": [
        {
          "name": "stdout",
          "output_type": "stream",
          "text": [
            "Cross Validation Accuracy:  0.7850534355847116\n"
          ]
        }
      ],
      "source": [
        "cross_val_acc3 = cross_val_score(best_knn_model, X_resampled, y_resampled, cv=5)\n",
        "print(\"Cross Validation Accuracy: \", cross_val_acc3.mean())"
      ]
    },
    {
      "cell_type": "code",
      "execution_count": 81,
      "metadata": {
        "colab": {
          "base_uri": "https://localhost:8080/"
        },
        "id": "6Cw1XzTg3eSV",
        "outputId": "503fb81b-88b0-4396-b008-0e1c2280e13c"
      },
      "outputs": [
        {
          "name": "stdout",
          "output_type": "stream",
          "text": [
            "Training F1 Score: 0.74, Test F1 Score: 0.76\n"
          ]
        }
      ],
      "source": [
        "train_accuracy = random_search.best_score_\n",
        "# test_accuracy = acc3\n",
        "# print(f\"Training accuracy: {train_accuracy:.2f}, Test accuracy: {test_accuracy:.2f}\")\n",
        "test_f1 = f1_score(test_target, predicted_target_3, average='weighted')\n",
        "print(f\"Training F1 Score: {train_accuracy:.2f}, Test F1 Score: {test_f1:.2f}\")"
      ]
    },
    {
      "cell_type": "markdown",
      "metadata": {
        "id": "79W40vz2FyZZ"
      },
      "source": [
        "# Final Model"
      ]
    },
    {
      "cell_type": "code",
      "execution_count": 82,
      "metadata": {
        "id": "TA46lYzuDKev"
      },
      "outputs": [
        {
          "data": {
            "text/plain": [
              "['model.pkl']"
            ]
          },
          "execution_count": 82,
          "metadata": {},
          "output_type": "execute_result"
        }
      ],
      "source": [
        "import joblib\n",
        "\n",
        "# Save the model to a file\n",
        "joblib.dump(best_rf_model, 'model.pkl')"
      ]
    }
  ],
  "metadata": {
    "colab": {
      "collapsed_sections": [
        "tbdhB4Dj3rR-",
        "79W40vz2FyZZ"
      ],
      "provenance": []
    },
    "kernelspec": {
      "display_name": "Python 3",
      "name": "python3"
    },
    "language_info": {
      "codemirror_mode": {
        "name": "ipython",
        "version": 3
      },
      "file_extension": ".py",
      "mimetype": "text/x-python",
      "name": "python",
      "nbconvert_exporter": "python",
      "pygments_lexer": "ipython3",
      "version": "3.12.4"
    }
  },
  "nbformat": 4,
  "nbformat_minor": 0
}
